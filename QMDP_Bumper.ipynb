{
 "cells": [
  {
   "cell_type": "code",
   "execution_count": 1,
   "metadata": {},
   "outputs": [
    {
     "name": "stderr",
     "output_type": "stream",
     "text": [
      "\n",
      "(process:4496): Gtk-WARNING **: 21:59:19.210: Locale not supported by C library.\n",
      "\tUsing the fallback 'C' locale.\n"
     ]
    }
   ],
   "source": [
    "# activate project environment\n",
    "# include these lines of code in any future scripts/notebooks\n",
    "#---\n",
    "import Pkg\n",
    "if !haskey(Pkg.installed(), \"AA228FinalProject\")\n",
    "    jenv = joinpath(dirname(@__FILE__()), \".\") # this assumes the notebook is in the same dir\n",
    "    # as the Project.toml file, which should be in top level dir of the project. \n",
    "    # Change accordingly if this is not the case.\n",
    "    Pkg.activate(jenv)\n",
    "end\n",
    "#---\n",
    "\n",
    "# import necessary packages\n",
    "using AA228FinalProject\n",
    "using POMDPs\n",
    "using POMDPPolicies\n",
    "using BeliefUpdaters\n",
    "using ParticleFilters\n",
    "using POMDPSimulators\n",
    "using Cairo\n",
    "using Gtk\n",
    "using Random\n",
    "using Printf\n",
    "using QMDP\n",
    "using JLD"
   ]
  },
  {
   "cell_type": "code",
   "execution_count": 2,
   "metadata": {},
   "outputs": [
    {
     "name": "stderr",
     "output_type": "stream",
     "text": [
      "┌ Warning: type BasicPOMCP.POMCPPlanner{AA228FinalProject.RoombaPOMDP{AA228FinalProject.Bumper,Core.Bool},BasicPOMCP.SolvedPORollout{POMDPPolicies.RandomPolicy{Random.MersenneTwister,AA228FinalProject.RoombaPOMDP{AA228FinalProject.Bumper,Core.Bool},BeliefUpdaters.NothingUpdater},BeliefUpdaters.NothingUpdater,Random.MersenneTwister},Random.MersenneTwister} not present in workspace; reconstructing\n",
      "└ @ JLD /Users/shengji/.julia/packages/JLD/1BoSz/src/jld_types.jl:703\n",
      "┌ Warning: type BasicPOMCP.POMCPSolver not present in workspace; reconstructing\n",
      "└ @ JLD /Users/shengji/.julia/packages/JLD/1BoSz/src/jld_types.jl:703\n",
      "┌ Warning: type MCTS.ExceptionRethrow not present in workspace; reconstructing\n",
      "└ @ JLD /Users/shengji/.julia/packages/JLD/1BoSz/src/jld_types.jl:703\n",
      "┌ Warning: type MCTS.RolloutEstimator not present in workspace; reconstructing\n",
      "└ @ JLD /Users/shengji/.julia/packages/JLD/1BoSz/src/jld_types.jl:703\n",
      "┌ Warning: type BasicPOMCP.SolvedPORollout{POMDPPolicies.RandomPolicy{Random.MersenneTwister,AA228FinalProject.RoombaPOMDP{AA228FinalProject.Bumper,Core.Bool},BeliefUpdaters.NothingUpdater},BeliefUpdaters.NothingUpdater,Random.MersenneTwister} not present in workspace; reconstructing\n",
      "└ @ JLD /Users/shengji/.julia/packages/JLD/1BoSz/src/jld_types.jl:703\n",
      "┌ Warning: type BasicPOMCP.POMCPTree{AA228FinalProject.RoombaAct,Core.Bool} not present in workspace; reconstructing\n",
      "└ @ JLD /Users/shengji/.julia/packages/JLD/1BoSz/src/jld_types.jl:703\n"
     ]
    },
    {
     "data": {
      "text/plain": [
       "getfield(JLD, Symbol(\"##BasicPOMCP.POMCPPlanner{AA228FinalProject.RoombaPOMDP{AA228FinalProject.Bumper,Core.Bool},BasicPOMCP.SolvedPORollout{POMDPPolicies.RandomPolicy{Random.MersenneTwister,AA228FinalProject.RoombaPOMDP{AA228FinalProject.Bumper,Core.Bool},BeliefUpdaters.NothingUpdater},BeliefUpdaters.NothingUpdater,Random.MersenneTwister},Random.MersenneTwister}#360\"))(getfield(JLD, Symbol(\"##BasicPOMCP.POMCPSolver#367\"))(20, 1.0, 1000, Inf, false, getfield(JLD, Symbol(\"##MCTS.ExceptionRethrow#376\"))(), MersenneTwister(UInt32[0x0634ab2c, 0xcccf14e6, 0x3d8fa6b0, 0xd3673877], Random.DSFMT.DSFMT_state(Int32[-1136388431, 1073288361, -2131327580, 1072748135, -1377061484, 1073012656, -1974709828, 1073212938, 391128126, 1072898135  …  646644001, 1073669527, 1688961526, 1073628475, 92118486, 2126273365, -1666819623, 1912510256, 382, 0]), [1.93443, 1.35969, 1.26592, 1.0276, 1.72788, 1.31693, 1.05031, 1.2343, 1.54865, 1.29179  …  1.24471, 1.53711, 1.96345, 1.51673, 1.07636, 1.83763, 1.83812, 1.52163, 1.93105, 1.8919], UInt128[0x00000000000000000000000000000000, 0x00000000000000000000000000000000, 0x00000000000000000000000000000000, 0x00000000000000000000000000000000, 0x00000000000000000000000000000000, 0x00000000000000000000000000000000, 0x00000000000000000000000000000000, 0x00000000000000000000000000000000, 0x00000000000000000000000000000000, 0x00000000000000000000000000000000  …  0x00000000000000000000000000000000, 0x00000000000000000000000000000000, 0x00000000000000000000000000000000, 0x00000000000000000000000000000000, 0x00000000000000000000000000000000, 0x00000000000000000000000000000000, 0x00000000000000000000000000000000, 0x00000000000000000000000000000000, 0x00000000000000000000000000000000, 0x00000000000000000000000000000000], 540, 0), getfield(JLD, Symbol(\"##MCTS.RolloutEstimator#378\"))(RandomSolver(MersenneTwister(UInt32[0x0634ab2c, 0xcccf14e6, 0x3d8fa6b0, 0xd3673877], Random.DSFMT.DSFMT_state(Int32[-1136388431, 1073288361, -2131327580, 1072748135, -1377061484, 1073012656, -1974709828, 1073212938, 391128126, 1072898135  …  646644001, 1073669527, 1688961526, 1073628475, 92118486, 2126273365, -1666819623, 1912510256, 382, 0]), [1.93443, 1.35969, 1.26592, 1.0276, 1.72788, 1.31693, 1.05031, 1.2343, 1.54865, 1.29179  …  1.24471, 1.53711, 1.96345, 1.51673, 1.07636, 1.83763, 1.83812, 1.52163, 1.93105, 1.8919], UInt128[0x00000000000000000000000000000000, 0x00000000000000000000000000000000, 0x00000000000000000000000000000000, 0x00000000000000000000000000000000, 0x00000000000000000000000000000000, 0x00000000000000000000000000000000, 0x00000000000000000000000000000000, 0x00000000000000000000000000000000, 0x00000000000000000000000000000000, 0x00000000000000000000000000000000  …  0x00000000000000000000000000000000, 0x00000000000000000000000000000000, 0x00000000000000000000000000000000, 0x00000000000000000000000000000000, 0x00000000000000000000000000000000, 0x00000000000000000000000000000000, 0x00000000000000000000000000000000, 0x00000000000000000000000000000000, 0x00000000000000000000000000000000, 0x00000000000000000000000000000000], 540, 0)))), RoombaPOMDP{Bumper,Bool}(Bumper(), RoombaMDP{ContinuousRoombaStateSpace,Array{RoombaAct,1}}\n",
       "  v_max: Float64 10.0\n",
       "  om_max: Float64 1.0\n",
       "  dt: Float64 0.5\n",
       "  contact_pen: Float64 -1.0\n",
       "  time_pen: Float64 -0.001\n",
       "  goal_reward: Float64 10.0\n",
       "  stairs_penalty: Float64 -13.0\n",
       "  config: Int64 3\n",
       "  sspace: ContinuousRoombaStateSpace ContinuousRoombaStateSpace()\n",
       "  room: AA228FinalProject.Room\n",
       "  aspace: Array{RoombaAct}((15,))\n",
       "  _amap: Dict{RoombaAct,Int64}\n",
       "), getfield(JLD, Symbol(\"##BasicPOMCP.SolvedPORollout{POMDPPolicies.RandomPolicy{Random.MersenneTwister,AA228FinalProject.RoombaPOMDP{AA228FinalProject.Bumper,Core.Bool},BeliefUpdaters.NothingUpdater},BeliefUpdaters.NothingUpdater,Random.MersenneTwister}#384\"))(RandomPolicy{MersenneTwister,RoombaPOMDP{Bumper,Bool},NothingUpdater}(MersenneTwister(UInt32[0x0634ab2c, 0xcccf14e6, 0x3d8fa6b0, 0xd3673877], Random.DSFMT.DSFMT_state(Int32[-1136388431, 1073288361, -2131327580, 1072748135, -1377061484, 1073012656, -1974709828, 1073212938, 391128126, 1072898135  …  646644001, 1073669527, 1688961526, 1073628475, 92118486, 2126273365, -1666819623, 1912510256, 382, 0]), [1.93443, 1.35969, 1.26592, 1.0276, 1.72788, 1.31693, 1.05031, 1.2343, 1.54865, 1.29179  …  1.24471, 1.53711, 1.96345, 1.51673, 1.07636, 1.83763, 1.83812, 1.52163, 1.93105, 1.8919], UInt128[0x00000000000000000000000000000000, 0x00000000000000000000000000000000, 0x00000000000000000000000000000000, 0x00000000000000000000000000000000, 0x00000000000000000000000000000000, 0x00000000000000000000000000000000, 0x00000000000000000000000000000000, 0x00000000000000000000000000000000, 0x00000000000000000000000000000000, 0x00000000000000000000000000000000  …  0x00000000000000000000000000000000, 0x00000000000000000000000000000000, 0x00000000000000000000000000000000, 0x00000000000000000000000000000000, 0x00000000000000000000000000000000, 0x00000000000000000000000000000000, 0x00000000000000000000000000000000, 0x00000000000000000000000000000000, 0x00000000000000000000000000000000, 0x00000000000000000000000000000000], 540, 0), RoombaPOMDP{Bumper,Bool}(Bumper(), RoombaMDP{ContinuousRoombaStateSpace,Array{RoombaAct,1}}\n",
       "  v_max: Float64 10.0\n",
       "  om_max: Float64 1.0\n",
       "  dt: Float64 0.5\n",
       "  contact_pen: Float64 -1.0\n",
       "  time_pen: Float64 -0.001\n",
       "  goal_reward: Float64 10.0\n",
       "  stairs_penalty: Float64 -13.0\n",
       "  config: Int64 3\n",
       "  sspace: ContinuousRoombaStateSpace ContinuousRoombaStateSpace()\n",
       "  room: AA228FinalProject.Room\n",
       "  aspace: Array{RoombaAct}((15,))\n",
       "  _amap: Dict{RoombaAct,Int64}\n",
       "), NothingUpdater()), NothingUpdater(), MersenneTwister(UInt32[0x0634ab2c, 0xcccf14e6, 0x3d8fa6b0, 0xd3673877], Random.DSFMT.DSFMT_state(Int32[-1136388431, 1073288361, -2131327580, 1072748135, -1377061484, 1073012656, -1974709828, 1073212938, 391128126, 1072898135  …  646644001, 1073669527, 1688961526, 1073628475, 92118486, 2126273365, -1666819623, 1912510256, 382, 0]), [1.93443, 1.35969, 1.26592, 1.0276, 1.72788, 1.31693, 1.05031, 1.2343, 1.54865, 1.29179  …  1.24471, 1.53711, 1.96345, 1.51673, 1.07636, 1.83763, 1.83812, 1.52163, 1.93105, 1.8919], UInt128[0x00000000000000000000000000000000, 0x00000000000000000000000000000000, 0x00000000000000000000000000000000, 0x00000000000000000000000000000000, 0x00000000000000000000000000000000, 0x00000000000000000000000000000000, 0x00000000000000000000000000000000, 0x00000000000000000000000000000000, 0x00000000000000000000000000000000, 0x00000000000000000000000000000000  …  0x00000000000000000000000000000000, 0x00000000000000000000000000000000, 0x00000000000000000000000000000000, 0x00000000000000000000000000000000, 0x00000000000000000000000000000000, 0x00000000000000000000000000000000, 0x00000000000000000000000000000000, 0x00000000000000000000000000000000, 0x00000000000000000000000000000000, 0x00000000000000000000000000000000], 540, 0)), MersenneTwister(UInt32[0x0634ab2c, 0xcccf14e6, 0x3d8fa6b0, 0xd3673877], Random.DSFMT.DSFMT_state(Int32[-1136388431, 1073288361, -2131327580, 1072748135, -1377061484, 1073012656, -1974709828, 1073212938, 391128126, 1072898135  …  646644001, 1073669527, 1688961526, 1073628475, 92118486, 2126273365, -1666819623, 1912510256, 382, 0]), [1.93443, 1.35969, 1.26592, 1.0276, 1.72788, 1.31693, 1.05031, 1.2343, 1.54865, 1.29179  …  1.24471, 1.53711, 1.96345, 1.51673, 1.07636, 1.83763, 1.83812, 1.52163, 1.93105, 1.8919], UInt128[0x00000000000000000000000000000000, 0x00000000000000000000000000000000, 0x00000000000000000000000000000000, 0x00000000000000000000000000000000, 0x00000000000000000000000000000000, 0x00000000000000000000000000000000, 0x00000000000000000000000000000000, 0x00000000000000000000000000000000, 0x00000000000000000000000000000000, 0x00000000000000000000000000000000  …  0x00000000000000000000000000000000, 0x00000000000000000000000000000000, 0x00000000000000000000000000000000, 0x00000000000000000000000000000000, 0x00000000000000000000000000000000, 0x00000000000000000000000000000000, 0x00000000000000000000000000000000, 0x00000000000000000000000000000000, 0x00000000000000000000000000000000, 0x00000000000000000000000000000000], 540, 0), [2116, 2117, 2118, 2119, 2120, 2121, 2122, 2123, 2124, 2125, 2126, 2127, 2128, 2129, 2130], getfield(JLD, Symbol(\"##BasicPOMCP.POMCPTree{AA228FinalProject.RoombaAct,Core.Bool}#388\"))([1000, 0, 46, 84, 52, 97, 96, 96, 65, 96  …  0, 0, 0, 0, 0, 0, 0, 0, 0, 0], Array{Int64,1}[[1, 2, 3, 4, 5, 6, 7, 8, 9, 10, 11, 12, 13, 14, 15], [16, 17, 18, 19, 20, 21, 22, 23, 24, 25, 26, 27, 28, 29, 30], [31, 32, 33, 34, 35, 36, 37, 38, 39, 40, 41, 42, 43, 44, 45], [46, 47, 48, 49, 50, 51, 52, 53, 54, 55, 56, 57, 58, 59, 60], [61, 62, 63, 64, 65, 66, 67, 68, 69, 70, 71, 72, 73, 74, 75], [76, 77, 78, 79, 80, 81, 82, 83, 84, 85, 86, 87, 88, 89, 90], [91, 92, 93, 94, 95, 96, 97, 98, 99, 100, 101, 102, 103, 104, 105], [106, 107, 108, 109, 110, 111, 112, 113, 114, 115, 116, 117, 118, 119, 120], [121, 122, 123, 124, 125, 126, 127, 128, 129, 130, 131, 132, 133, 134, 135], [136, 137, 138, 139, 140, 141, 142, 143, 144, 145, 146, 147, 148, 149, 150]  …  [14866, 14867, 14868, 14869, 14870, 14871, 14872, 14873, 14874, 14875, 14876, 14877, 14878, 14879, 14880], [14881, 14882, 14883, 14884, 14885, 14886, 14887, 14888, 14889, 14890, 14891, 14892, 14893, 14894, 14895], [14896, 14897, 14898, 14899, 14900, 14901, 14902, 14903, 14904, 14905, 14906, 14907, 14908, 14909, 14910], [14911, 14912, 14913, 14914, 14915, 14916, 14917, 14918, 14919, 14920, 14921, 14922, 14923, 14924, 14925], [14926, 14927, 14928, 14929, 14930, 14931, 14932, 14933, 14934, 14935, 14936, 14937, 14938, 14939, 14940], [14941, 14942, 14943, 14944, 14945, 14946, 14947, 14948, 14949, 14950, 14951, 14952, 14953, 14954, 14955], [14956, 14957, 14958, 14959, 14960, 14961, 14962, 14963, 14964, 14965, 14966, 14967, 14968, 14969, 14970], [14971, 14972, 14973, 14974, 14975, 14976, 14977, 14978, 14979, 14980, 14981, 14982, 14983, 14984, 14985], [14986, 14987, 14988, 14989, 14990, 14991, 14992, 14993, 14994, 14995, 14996, 14997, 14998, 14999, 15000], [15001, 15002, 15003, 15004, 15005, 15006, 15007, 15008, 15009, 15010, 15011, 15012, 15013, 15014, 15015]], Bool[false, true, true, true, true, true, true, true, true, true  …  true, true, true, true, true, true, true, true, true, true], Dict((1775, true)=>993,(525, true)=>403,(3097, true)=>415,(1954, true)=>716,(865, true)=>946,(2146, true)=>733,(1609, true)=>474,(193, true)=>86,(281, true)=>576,(1627, true)=>241…), [97, 98, 68, 98, 85, 1, 1, 97, 97, 67  …  0, 0, 0, 0, 0, 0, 0, 0, 0, 0], [-12.8431, -12.8431, -12.9135, -12.8431, -12.9008, -17.6292, -17.3709, -12.8431, -12.8431, -12.9145  …  0.0, 0.0, 0.0, 0.0, 0.0, 0.0, 0.0, 0.0, 0.0, 0.0], RoombaAct[[0.5, -1.0], [1.0, -1.0], [2.0, -1.0], [0.5, -0.5], [1.0, -0.5], [2.0, -0.5], [0.5, 0.0], [1.0, 0.0], [2.0, 0.0], [0.5, 0.5]  …  [2.0, -0.5], [0.5, 0.0], [1.0, 0.0], [2.0, 0.0], [0.5, 0.5], [1.0, 0.5], [2.0, 0.5], [0.5, 1.0], [1.0, 1.0], [2.0, 1.0]]))"
      ]
     },
     "execution_count": 2,
     "metadata": {},
     "output_type": "execute_result"
    }
   ],
   "source": [
    "p = JLD.load(\"QMDP_Bumper_policy.jld\")\n",
    "p = p[\"policy\"]"
   ]
  },
  {
   "cell_type": "code",
   "execution_count": 3,
   "metadata": {},
   "outputs": [],
   "source": [
    "num_x_pts = 50 # e.g. 50\n",
    "num_y_pts = 50 # e.g. 50\n",
    "num_th_pts = 20 # e.g. 20\n",
    "sspace = DiscreteRoombaStateSpace(num_x_pts,num_y_pts,num_th_pts);"
   ]
  },
  {
   "cell_type": "code",
   "execution_count": 4,
   "metadata": {},
   "outputs": [],
   "source": [
    "vlist = [0, 1, 2, 3]\n",
    "omlist = [-1, -0.5, 0, 0.5, 1]\n",
    "aspace = vec(collect(RoombaAct(v, om) for v in vlist, om in omlist));"
   ]
  },
  {
   "cell_type": "code",
   "execution_count": 5,
   "metadata": {},
   "outputs": [],
   "source": [
    "sensor = Bumper();"
   ]
  },
  {
   "cell_type": "code",
   "execution_count": 6,
   "metadata": {},
   "outputs": [],
   "source": [
    "config = 3 # 1,2, or 3\n",
    "m = RoombaPOMDP(sensor=sensor, mdp=RoombaMDP(config=config, sspace=sspace, aspace=aspace));"
   ]
  },
  {
   "cell_type": "code",
   "execution_count": 6,
   "metadata": {},
   "outputs": [],
   "source": [
    "num_particles = 2000\n",
    "resampler = LidarResampler(num_particles, LowVarianceResampler(num_particles))\n",
    "# for the bumper environment\n",
    "# resampler = BumperResampler(num_particles)\n",
    "\n",
    "spf = SimpleParticleFilter(m, resampler)\n",
    "\n",
    "v_noise_coefficient = 2.0\n",
    "om_noise_coefficient = 0.5\n",
    "\n",
    "belief_updater = RoombaParticleFilter(spf, v_noise_coefficient, om_noise_coefficient);"
   ]
  },
  {
   "cell_type": "code",
   "execution_count": 7,
   "metadata": {},
   "outputs": [
    {
     "name": "stderr",
     "output_type": "stream",
     "text": [
      "┌ Info: Recompiling stale cache file /Users/shengji/.julia/compiled/v1.0/POMDPSolve/gD8mK.ji for POMDPSolve [a575d7f4-a5df-53f5-8ba4-9d691c1ba8ff]\n",
      "└ @ Base loading.jl:1190\n"
     ]
    }
   ],
   "source": [
    "using POMDPSolve"
   ]
  },
  {
   "cell_type": "code",
   "execution_count": 8,
   "metadata": {},
   "outputs": [
    {
     "data": {
      "text/plain": [
       "POMDPSolveSolver(Dict{AbstractString,Any}())"
      ]
     },
     "execution_count": 8,
     "metadata": {},
     "output_type": "execute_result"
    }
   ],
   "source": [
    "solver = POMDPSolveSolver()"
   ]
  },
  {
   "cell_type": "code",
   "execution_count": 9,
   "metadata": {},
   "outputs": [
    {
     "ename": "MethodError",
     "evalue": "MethodError: no method matching solve(::POMDPSolveSolver, ::RoombaPOMDP{Bumper,Bool})\nClosest candidates are:\n  solve(::POMDPSolveSolver, !Matched::POMDPSolveFile) at /Users/shengji/.julia/packages/POMDPSolve/JTyCb/src/solver.jl:177\n  solve(::POMDPSolveSolver, !Matched::POMDPSolveFile, !Matched::POMDPSolvePolicy) at /Users/shengji/.julia/packages/POMDPSolve/JTyCb/src/solver.jl:177\n  solve(!Matched::FunctionSolver, ::Union{MDP, POMDP}) at /Users/shengji/.julia/packages/POMDPPolicies/nVH68/src/function.jl:23\n  ...",
     "output_type": "error",
     "traceback": [
      "MethodError: no method matching solve(::POMDPSolveSolver, ::RoombaPOMDP{Bumper,Bool})\nClosest candidates are:\n  solve(::POMDPSolveSolver, !Matched::POMDPSolveFile) at /Users/shengji/.julia/packages/POMDPSolve/JTyCb/src/solver.jl:177\n  solve(::POMDPSolveSolver, !Matched::POMDPSolveFile, !Matched::POMDPSolvePolicy) at /Users/shengji/.julia/packages/POMDPSolve/JTyCb/src/solver.jl:177\n  solve(!Matched::FunctionSolver, ::Union{MDP, POMDP}) at /Users/shengji/.julia/packages/POMDPPolicies/nVH68/src/function.jl:23\n  ...",
      "",
      "Stacktrace:",
      " [1] top-level scope at In[9]:1"
     ]
    }
   ],
   "source": [
    "p = solve(solver, m)"
   ]
  },
  {
   "cell_type": "code",
   "execution_count": 8,
   "metadata": {},
   "outputs": [
    {
     "name": "stdout",
     "output_type": "stream",
     "text": [
      "[Iteration 1   ] residual:        0.1 | iteration runtime:  34554.668 ms, (      34.6 s total)\n",
      "[Iteration 2   ] residual:      0.095 | iteration runtime:  88547.387 ms, (       123 s total)\n"
     ]
    },
    {
     "ename": "InterruptException",
     "evalue": "InterruptException:",
     "output_type": "error",
     "traceback": [
      "InterruptException:",
      "",
      "Stacktrace:",
      " [1] getproperty(::Any, ::Symbol) at ./sysimg.jl:18",
      " [2] stateindex(::RoombaPOMDP{Bumper,Bool}, ::RoombaState) at /Users/shengji/Documents/GitHub/Room-Navigation/src/roomba_env.jl:293",
      " [3] transition(::RoombaPOMDP{Bumper,Bool}, ::RoombaState, ::RoombaAct) at /Users/shengji/Documents/GitHub/Room-Navigation/src/roomba_env.jl:254",
      " [4] #solve#3(::Base.Iterators.Pairs{Union{},Union{},Tuple{},NamedTuple{(),Tuple{}}}, ::Function, ::DiscreteValueIteration.ValueIterationSolver, ::RoombaPOMDP{Bumper,Bool}) at /Users/shengji/.julia/packages/DiscreteValueIteration/ezxsV/src/vanilla.jl:77",
      " [5] solve at /Users/shengji/.julia/packages/DiscreteValueIteration/ezxsV/src/vanilla.jl:56 [inlined]",
      " [6] macro expansion at ./logging.jl:306 [inlined]",
      " [7] #solve#2(::Base.Iterators.Pairs{Union{},Union{},Tuple{},NamedTuple{(),Tuple{}}}, ::Function, ::QMDPSolver, ::RoombaPOMDP{Bumper,Bool}) at /Users/shengji/.julia/packages/QMDP/gq4Nj/src/vanilla.jl:37",
      " [8] solve(::QMDPSolver, ::RoombaPOMDP{Bumper,Bool}) at /Users/shengji/.julia/packages/QMDP/gq4Nj/src/vanilla.jl:36",
      " [9] top-level scope at In[8]:2"
     ]
    }
   ],
   "source": [
    "solver = QMDPSolver(max_iterations=20, tolerance=1e-3, verbose=true)\n",
    "p = solve(solver, m);"
   ]
  },
  {
   "cell_type": "code",
   "execution_count": 9,
   "metadata": {},
   "outputs": [],
   "source": [
    "# run the simulation\n",
    "c = @GtkCanvas()\n",
    "win = GtkWindow(c, \"Roomba Environment\", 600, 600)\n",
    "for (t, step) in enumerate(stepthrough(m, p, belief_updater, max_steps=100))\n",
    "    @guarded draw(c) do widget\n",
    "        \n",
    "        # the following lines render the room, the particles, and the roomba\n",
    "        ctx = getgc(c)\n",
    "        set_source_rgb(ctx,1,1,1)\n",
    "        paint(ctx)\n",
    "        render(ctx, m, step)\n",
    "        \n",
    "        # render some information that can help with debugging\n",
    "        # here, we render the time-step, the state, and the observation\n",
    "        move_to(ctx,300,400)\n",
    "        show_text(ctx, @sprintf(\"t=%d, state=%s, o=%.3f\",t,string(step.s),step.o))\n",
    "    end\n",
    "    show(c)\n",
    "    sleep(0.1) # to slow down the simulation\n",
    "end"
   ]
  },
  {
   "cell_type": "code",
   "execution_count": 15,
   "metadata": {},
   "outputs": [],
   "source": [
    "using JLD\n",
    "JLD.save(\"QMDP_Bumper_policy.jld\", \"policy\", p)"
   ]
  },
  {
   "cell_type": "code",
   "execution_count": 12,
   "metadata": {},
   "outputs": [],
   "source": [
    "using POMDPFiles"
   ]
  },
  {
   "cell_type": "code",
   "execution_count": 42,
   "metadata": {},
   "outputs": [
    {
     "ename": "MethodError",
     "evalue": "MethodError: no method matching reward(::RoombaPOMDP{Bumper,Bool}, ::RoombaState, ::RoombaAct)\nClosest candidates are:\n  reward(::Union{RoombaMDP, RoombaPOMDP}, ::AbstractArray{Float64,1}, ::AbstractArray{Float64,1}, !Matched::AbstractArray{Float64,1}) at /Users/shengji/Documents/GitHub/Room-Navigation/src/roomba_env.jl:347\n  reward(::Union{MDP, POMDP}, ::Any, ::Any, !Matched::Any) at /Users/shengji/.julia/packages/POMDPs/JiYXY/src/pomdp.jl:107\n  reward(!Matched::POMDPModelTools.FullyObservablePOMDP{S,A}, ::S, ::A) where {S, A} at /Users/shengji/.julia/packages/POMDPModelTools/eHEjm/src/fully_observable_pomdp.jl:41\n  ...",
     "output_type": "error",
     "traceback": [
      "MethodError: no method matching reward(::RoombaPOMDP{Bumper,Bool}, ::RoombaState, ::RoombaAct)\nClosest candidates are:\n  reward(::Union{RoombaMDP, RoombaPOMDP}, ::AbstractArray{Float64,1}, ::AbstractArray{Float64,1}, !Matched::AbstractArray{Float64,1}) at /Users/shengji/Documents/GitHub/Room-Navigation/src/roomba_env.jl:347\n  reward(::Union{MDP, POMDP}, ::Any, ::Any, !Matched::Any) at /Users/shengji/.julia/packages/POMDPs/JiYXY/src/pomdp.jl:107\n  reward(!Matched::POMDPModelTools.FullyObservablePOMDP{S,A}, ::S, ::A) where {S, A} at /Users/shengji/.julia/packages/POMDPModelTools/eHEjm/src/fully_observable_pomdp.jl:41\n  ...",
      "",
      "Stacktrace:",
      " [1] write(::IOStream, ::RoombaPOMDP{Bumper,Bool}) at /Users/shengji/.julia/packages/POMDPFiles/qfpXz/src/write.jl:110",
      " [2] top-level scope at In[42]:2"
     ]
    }
   ],
   "source": [
    "fout = open(\"aaa.pomdp\", \"w\")\n",
    "write(fout, m)\n",
    "close(fout)"
   ]
  },
  {
   "cell_type": "code",
   "execution_count": 19,
   "metadata": {},
   "outputs": [
    {
     "name": "stderr",
     "output_type": "stream",
     "text": [
      "┌ Info: Recompiling stale cache file /Users/shengji/.julia/compiled/v1.0/POMDPModels/GHWgR.ji for POMDPModels [355abbd5-f08e-5560-ac9e-8b5f2592a0ca]\n",
      "└ @ Base loading.jl:1190\n",
      "WARNING: Method definition GridWorld(Any...) in module POMDPModels at deprecated.jl:29 overwritten at deprecated.jl:53.\n",
      "┌ Info: Loading Cairo backend into Compose.jl\n",
      "└ @ Compose /Users/shengji/.julia/packages/Compose/BYWXX/src/Compose.jl:161\n",
      "┌ Warning: Package Compose does not have Cairo in its dependencies:\n",
      "│ - If you have Compose checked out for development and have\n",
      "│   added Cairo as a dependency but haven't updated your primary\n",
      "│   environment's manifest file, try `Pkg.resolve()`.\n",
      "│ - Otherwise you may need to report an issue with Compose\n",
      "│ Loading Cairo into Compose from project dependency, future warnings for Compose are suppressed.\n",
      "└ @ nothing nothing:840\n"
     ]
    }
   ],
   "source": [
    "using POMDPModels"
   ]
  },
  {
   "cell_type": "code",
   "execution_count": 20,
   "metadata": {},
   "outputs": [
    {
     "data": {
      "text/plain": [
       "TigerPOMDP(-1.0, -100.0, 10.0, 0.85, 0.95)"
      ]
     },
     "execution_count": 20,
     "metadata": {},
     "output_type": "execute_result"
    }
   ],
   "source": [
    "a = TigerPOMDP()"
   ]
  },
  {
   "cell_type": "code",
   "execution_count": 21,
   "metadata": {},
   "outputs": [
    {
     "data": {
      "text/plain": [
       "TigerPOMDP"
      ]
     },
     "execution_count": 21,
     "metadata": {},
     "output_type": "execute_result"
    }
   ],
   "source": [
    "typeof(a)"
   ]
  },
  {
   "cell_type": "code",
   "execution_count": 22,
   "metadata": {},
   "outputs": [
    {
     "data": {
      "text/plain": [
       "RoombaPOMDP{Bumper,Bool}(Bumper(), RoombaMDP{DiscreteRoombaStateSpace,Array{RoombaAct,1}}\n",
       "  v_max: Float64 10.0\n",
       "  om_max: Float64 1.0\n",
       "  dt: Float64 0.5\n",
       "  contact_pen: Float64 -1.0\n",
       "  time_pen: Float64 -0.1\n",
       "  goal_reward: Float64 10.0\n",
       "  stairs_penalty: Float64 -10.0\n",
       "  config: Int64 3\n",
       "  sspace: DiscreteRoombaStateSpace\n",
       "  room: AA228FinalProject.Room\n",
       "  aspace: Array{RoombaAct}((20,))\n",
       "  _amap: Dict{RoombaAct,Int64}\n",
       ")"
      ]
     },
     "execution_count": 22,
     "metadata": {},
     "output_type": "execute_result"
    }
   ],
   "source": [
    "m"
   ]
  },
  {
   "cell_type": "code",
   "execution_count": null,
   "metadata": {},
   "outputs": [],
   "source": []
  }
 ],
 "metadata": {
  "kernelspec": {
   "display_name": "Julia 1.0.2",
   "language": "julia",
   "name": "julia-1.0"
  },
  "language_info": {
   "file_extension": ".jl",
   "mimetype": "application/julia",
   "name": "julia",
   "version": "1.0.2"
  }
 },
 "nbformat": 4,
 "nbformat_minor": 2
}
