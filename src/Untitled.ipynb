{
 "cells": [
  {
   "cell_type": "code",
   "execution_count": 1,
   "metadata": {},
   "outputs": [
    {
     "name": "stderr",
     "output_type": "stream",
     "text": [
      "┌ Info: Recompiling stale cache file /Users/shengji/.julia/compiled/v1.0/POMDPModels/GHWgR.ji for POMDPModels [355abbd5-f08e-5560-ac9e-8b5f2592a0ca]\n",
      "└ @ Base loading.jl:1190\n",
      "WARNING: Method definition GridWorld(Any...) in module POMDPModels at deprecated.jl:29 overwritten at deprecated.jl:53.\n",
      "┌ Info: Recompiling stale cache file /Users/shengji/.julia/compiled/v1.0/POMDPSimulators/i1HOp.ji for POMDPSimulators [e0d0a172-29c6-5d4e-96d0-f262df5d01fd]\n",
      "└ @ Base loading.jl:1190\n"
     ]
    }
   ],
   "source": [
    "using QMDP, POMDPModels, POMDPSimulators"
   ]
  },
  {
   "cell_type": "code",
   "execution_count": 4,
   "metadata": {},
   "outputs": [
    {
     "name": "stdout",
     "output_type": "stream",
     "text": [
      "reward: 32.55692732801209\n"
     ]
    }
   ],
   "source": [
    "# initialize problem and solver\n",
    "pomdp = TigerPOMDP() # from POMDPModels\n",
    "solver = QMDPSolver() # from QMDP\n",
    "\n",
    "# compute a policy\n",
    "policy = solve(solver, pomdp)\n",
    "\n",
    "#evaluate the policy\n",
    "belief_updater = updater(policy) # the default QMPD belief updater (discrete Bayesian filter)\n",
    "init_dist = initialstate_distribution(pomdp) # from POMDPModels\n",
    "hr = HistoryRecorder(max_steps=100) # from POMDPSimulators\n",
    "hist = simulate(hr, pomdp, policy, belief_updater, init_dist) # run 100 step simulation\n",
    "println(\"reward: $(discounted_reward(hist))\")"
   ]
  },
  {
   "cell_type": "code",
   "execution_count": 3,
   "metadata": {},
   "outputs": [],
   "source": [
    "using POMDPs"
   ]
  },
  {
   "cell_type": "code",
   "execution_count": 5,
   "metadata": {},
   "outputs": [
    {
     "data": {
      "text/plain": [
       "POMDPPolicies.AlphaVectorPolicy{TigerPOMDP,Int64}(TigerPOMDP(-1.0, -100.0, 10.0, 0.85, 0.95), Array{Float64,1}[[188.773, 188.78], [199.777, 89.7841], [89.7766, 199.784]], [0, 1, 2])"
      ]
     },
     "execution_count": 5,
     "metadata": {},
     "output_type": "execute_result"
    }
   ],
   "source": [
    "policy"
   ]
  },
  {
   "cell_type": "code",
   "execution_count": 6,
   "metadata": {},
   "outputs": [
    {
     "data": {
      "text/plain": [
       "POMDPHistory{Bool,Int64,Bool,BeliefUpdaters.DiscreteBelief{TigerPOMDP,Bool}}(Bool[false, false, false, true, true, true, false, false, false, true  …  false, true, true, true, true, true, true, false, false, false], [0, 0, 1, 0, 0, 2, 0, 0, 1, 0  …  0, 1, 0, 0, 2, 0, 0, 2, 0, 0], Bool[false, false, false, true, true, false, false, false, false, true  …  false, false, true, true, true, true, true, true, false, true], BeliefUpdaters.DiscreteBelief{TigerPOMDP,Bool}[DiscreteBelief{TigerPOMDP,Bool}(TigerPOMDP(-1.0, -100.0, 10.0, 0.85, 0.95), Bool[false, true], [0.5, 0.5]), DiscreteBelief{TigerPOMDP,Bool}(TigerPOMDP(-1.0, -100.0, 10.0, 0.85, 0.95), Bool[false, true], [0.85, 0.15]), DiscreteBelief{TigerPOMDP,Bool}(TigerPOMDP(-1.0, -100.0, 10.0, 0.85, 0.95), Bool[false, true], [0.969799, 0.0302013]), DiscreteBelief{TigerPOMDP,Bool}(TigerPOMDP(-1.0, -100.0, 10.0, 0.85, 0.95), Bool[false, true], [0.5, 0.5]), DiscreteBelief{TigerPOMDP,Bool}(TigerPOMDP(-1.0, -100.0, 10.0, 0.85, 0.95), Bool[false, true], [0.15, 0.85]), DiscreteBelief{TigerPOMDP,Bool}(TigerPOMDP(-1.0, -100.0, 10.0, 0.85, 0.95), Bool[false, true], [0.0302013, 0.969799]), DiscreteBelief{TigerPOMDP,Bool}(TigerPOMDP(-1.0, -100.0, 10.0, 0.85, 0.95), Bool[false, true], [0.5, 0.5]), DiscreteBelief{TigerPOMDP,Bool}(TigerPOMDP(-1.0, -100.0, 10.0, 0.85, 0.95), Bool[false, true], [0.85, 0.15]), DiscreteBelief{TigerPOMDP,Bool}(TigerPOMDP(-1.0, -100.0, 10.0, 0.85, 0.95), Bool[false, true], [0.969799, 0.0302013]), DiscreteBelief{TigerPOMDP,Bool}(TigerPOMDP(-1.0, -100.0, 10.0, 0.85, 0.95), Bool[false, true], [0.5, 0.5])  …  DiscreteBelief{TigerPOMDP,Bool}(TigerPOMDP(-1.0, -100.0, 10.0, 0.85, 0.95), Bool[false, true], [0.969799, 0.0302013]), DiscreteBelief{TigerPOMDP,Bool}(TigerPOMDP(-1.0, -100.0, 10.0, 0.85, 0.95), Bool[false, true], [0.5, 0.5]), DiscreteBelief{TigerPOMDP,Bool}(TigerPOMDP(-1.0, -100.0, 10.0, 0.85, 0.95), Bool[false, true], [0.15, 0.85]), DiscreteBelief{TigerPOMDP,Bool}(TigerPOMDP(-1.0, -100.0, 10.0, 0.85, 0.95), Bool[false, true], [0.0302013, 0.969799]), DiscreteBelief{TigerPOMDP,Bool}(TigerPOMDP(-1.0, -100.0, 10.0, 0.85, 0.95), Bool[false, true], [0.5, 0.5]), DiscreteBelief{TigerPOMDP,Bool}(TigerPOMDP(-1.0, -100.0, 10.0, 0.85, 0.95), Bool[false, true], [0.15, 0.85]), DiscreteBelief{TigerPOMDP,Bool}(TigerPOMDP(-1.0, -100.0, 10.0, 0.85, 0.95), Bool[false, true], [0.0302013, 0.969799]), DiscreteBelief{TigerPOMDP,Bool}(TigerPOMDP(-1.0, -100.0, 10.0, 0.85, 0.95), Bool[false, true], [0.5, 0.5]), DiscreteBelief{TigerPOMDP,Bool}(TigerPOMDP(-1.0, -100.0, 10.0, 0.85, 0.95), Bool[false, true], [0.85, 0.15]), DiscreteBelief{TigerPOMDP,Bool}(TigerPOMDP(-1.0, -100.0, 10.0, 0.85, 0.95), Bool[false, true], [0.5, 0.5])], [-1.0, -1.0, 10.0, -1.0, -1.0, 10.0, -1.0, -1.0, 10.0, -1.0  …  -1.0, 10.0, -1.0, -1.0, 10.0, -1.0, -1.0, 10.0, -1.0, -1.0], Any[nothing, nothing, nothing, nothing, nothing, nothing, nothing, nothing, nothing, nothing  …  nothing, nothing, nothing, nothing, nothing, nothing, nothing, nothing, nothing, nothing], Any[nothing, nothing, nothing, nothing, nothing, nothing, nothing, nothing, nothing, nothing  …  nothing, nothing, nothing, nothing, nothing, nothing, nothing, nothing, nothing, nothing], Any[nothing, nothing, nothing, nothing, nothing, nothing, nothing, nothing, nothing, nothing  …  nothing, nothing, nothing, nothing, nothing, nothing, nothing, nothing, nothing, nothing], 0.95, nothing, nothing)"
      ]
     },
     "execution_count": 6,
     "metadata": {},
     "output_type": "execute_result"
    }
   ],
   "source": [
    "hist"
   ]
  },
  {
   "cell_type": "code",
   "execution_count": null,
   "metadata": {},
   "outputs": [],
   "source": []
  }
 ],
 "metadata": {
  "kernelspec": {
   "display_name": "Julia 1.0.2",
   "language": "julia",
   "name": "julia-1.0"
  },
  "language_info": {
   "file_extension": ".jl",
   "mimetype": "application/julia",
   "name": "julia",
   "version": "1.0.2"
  }
 },
 "nbformat": 4,
 "nbformat_minor": 2
}
