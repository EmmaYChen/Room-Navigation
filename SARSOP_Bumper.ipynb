{
 "cells": [
  {
   "cell_type": "code",
   "execution_count": 1,
   "metadata": {},
   "outputs": [
    {
     "name": "stderr",
     "output_type": "stream",
     "text": [
      "\n",
      "(process:5946): Gtk-WARNING **: 14:28:56.240: Locale not supported by C library.\n",
      "\tUsing the fallback 'C' locale.\n"
     ]
    }
   ],
   "source": [
    "# activate project environment\n",
    "# include these lines of code in any future scripts/notebooks\n",
    "#---\n",
    "import Pkg\n",
    "if !haskey(Pkg.installed(), \"AA228FinalProject\")\n",
    "    jenv = joinpath(dirname(@__FILE__()), \".\") # this assumes the notebook is in the same dir\n",
    "    # as the Project.toml file, which should be in top level dir of the project. \n",
    "    # Change accordingly if this is not the case.\n",
    "    Pkg.activate(jenv)\n",
    "end\n",
    "#---\n",
    "\n",
    "# import necessary packages\n",
    "using AA228FinalProject\n",
    "using POMDPs\n",
    "using POMDPPolicies\n",
    "using BeliefUpdaters\n",
    "using ParticleFilters\n",
    "using POMDPSimulators\n",
    "using Cairo\n",
    "using Gtk\n",
    "using Random\n",
    "using Printf\n",
    "using SARSOP\n",
    "using JLD"
   ]
  },
  {
   "cell_type": "code",
   "execution_count": 2,
   "metadata": {},
   "outputs": [],
   "source": [
    "num_x_pts = 50 # e.g. 50\n",
    "num_y_pts = 50 # e.g. 50\n",
    "num_th_pts = 20 # e.g. 20\n",
    "sspace = DiscreteRoombaStateSpace(num_x_pts,num_y_pts,num_th_pts);"
   ]
  },
  {
   "cell_type": "code",
   "execution_count": 3,
   "metadata": {},
   "outputs": [],
   "source": [
    "vlist = [0, 0.5, 1, 2]\n",
    "omlist = [-1, -0.5, -0.1, 0, 0.1, 0.5, 1]\n",
    "aspace = vec(collect(RoombaAct(v, om) for v in vlist, om in omlist));"
   ]
  },
  {
   "cell_type": "code",
   "execution_count": 4,
   "metadata": {},
   "outputs": [],
   "source": [
    "sensor = Bumper();"
   ]
  },
  {
   "cell_type": "code",
   "execution_count": 5,
   "metadata": {},
   "outputs": [],
   "source": [
    "config = 3 # 1,2, or 3\n",
    "m = RoombaPOMDP(sensor=sensor, mdp=RoombaMDP(config=config, sspace=sspace, aspace=aspace));"
   ]
  },
  {
   "cell_type": "code",
   "execution_count": 6,
   "metadata": {},
   "outputs": [],
   "source": [
    "num_particles = 2000\n",
    "resampler = BumperResampler(num_particles)\n",
    "\n",
    "spf = SimpleParticleFilter(m, resampler)\n",
    "\n",
    "v_noise_coefficient = 2.0\n",
    "om_noise_coefficient = 0.5\n",
    "\n",
    "belief_updater = RoombaParticleFilter(spf, v_noise_coefficient, om_noise_coefficient);"
   ]
  },
  {
   "cell_type": "code",
   "execution_count": 7,
   "metadata": {},
   "outputs": [
    {
     "name": "stdout",
     "output_type": "stream",
     "text": [
      "Generating a pomdpx file: model.pomdpx\n"
     ]
    },
    {
     "ename": "MethodError",
     "evalue": "MethodError: no method matching pdf(::AA228FinalProject.RoombaInitialDistribution{RoombaPOMDP{Bumper,Bool}}, ::RoombaState)\nClosest candidates are:\n  pdf(!Matched::Distributions.Distribution{Distributions.Multivariate,S} where S<:Distributions.ValueSupport, ::AbstractArray{T,1} where T) at /Users/shengji/.julia/packages/Distributions/WHjOk/src/multivariates.jl:179\n  pdf(!Matched::Distributions.Distribution{Distributions.Univariate,S} where S<:Distributions.ValueSupport, ::AbstractArray) at deprecated.jl:53\n  pdf(!Matched::POMDPModelTools.SparseCat{V<:AbstractArray,P<:AbstractArray}, ::Any) where {V<:AbstractArray, P<:AbstractArray} at /Users/shengji/.julia/packages/POMDPModelTools/eHEjm/src/distributions/sparse_cat.jl:47\n  ...",
     "output_type": "error",
     "traceback": [
      "MethodError: no method matching pdf(::AA228FinalProject.RoombaInitialDistribution{RoombaPOMDP{Bumper,Bool}}, ::RoombaState)\nClosest candidates are:\n  pdf(!Matched::Distributions.Distribution{Distributions.Multivariate,S} where S<:Distributions.ValueSupport, ::AbstractArray{T,1} where T) at /Users/shengji/.julia/packages/Distributions/WHjOk/src/multivariates.jl:179\n  pdf(!Matched::Distributions.Distribution{Distributions.Univariate,S} where S<:Distributions.ValueSupport, ::AbstractArray) at deprecated.jl:53\n  pdf(!Matched::POMDPModelTools.SparseCat{V<:AbstractArray,P<:AbstractArray}, ::Any) where {V<:AbstractArray, P<:AbstractArray} at /Users/shengji/.julia/packages/POMDPModelTools/eHEjm/src/distributions/sparse_cat.jl:47\n  ...",
      "",
      "Stacktrace:",
      " [1] belief_xml(::RoombaPOMDP{Bumper,Bool}, ::POMDPXFiles.POMDPXFile, ::IOStream) at /Users/shengji/.julia/packages/POMDPXFiles/DIhGj/src/writer.jl:203",
      " [2] write(::RoombaPOMDP{Bumper,Bool}, ::POMDPXFiles.POMDPXFile) at /Users/shengji/.julia/packages/POMDPXFiles/DIhGj/src/writer.jl:91",
      " [3] (::getfield(SARSOP, Symbol(\"##POMDPFile#1#2\")))(::Bool, ::Type, ::RoombaPOMDP{Bumper,Bool}, ::String) at /Users/shengji/.julia/packages/SARSOP/kKDEJ/src/file.jl:16",
      " [4] Type at ./none:0 [inlined]",
      " [5] #solve#5(::Bool, ::String, ::Function, ::SARSOPSolver, ::RoombaPOMDP{Bumper,Bool}, ::POMDPPolicy) at /Users/shengji/.julia/packages/SARSOP/kKDEJ/src/solver.jl:94",
      " [6] solve at /Users/shengji/.julia/packages/SARSOP/kKDEJ/src/solver.jl:94 [inlined] (repeats 2 times)",
      " [7] top-level scope at In[7]:2"
     ]
    }
   ],
   "source": [
    "solver = SARSOPSolver()\n",
    "p = solve(solver, m);"
   ]
  },
  {
   "cell_type": "code",
   "execution_count": 9,
   "metadata": {},
   "outputs": [],
   "source": [
    "# run the simulation\n",
    "c = @GtkCanvas()\n",
    "win = GtkWindow(c, \"Roomba Environment\", 600, 600)\n",
    "for (t, step) in enumerate(stepthrough(m, p, belief_updater, max_steps=100))\n",
    "    @guarded draw(c) do widget\n",
    "        \n",
    "        # the following lines render the room, the particles, and the roomba\n",
    "        ctx = getgc(c)\n",
    "        set_source_rgb(ctx,1,1,1)\n",
    "        paint(ctx)\n",
    "        render(ctx, m, step)\n",
    "        \n",
    "        # render some information that can help with debugging\n",
    "        # here, we render the time-step, the state, and the observation\n",
    "        move_to(ctx,300,400)\n",
    "        show_text(ctx, @sprintf(\"t=%d, state=%s, o=%.3f\",t,string(step.s),step.o))\n",
    "    end\n",
    "    show(c)\n",
    "    sleep(0.1) # to slow down the simulation\n",
    "end"
   ]
  },
  {
   "cell_type": "code",
   "execution_count": 15,
   "metadata": {},
   "outputs": [],
   "source": [
    "using JLD\n",
    "JLD.save(\"FIB_Bumper_policy.jld\", \"policy\", p)"
   ]
  },
  {
   "cell_type": "code",
   "execution_count": 10,
   "metadata": {},
   "outputs": [
    {
     "data": {
      "text/plain": [
       "ParticleCollection{RoombaState}(RoombaState[[11.8367, 2.65306, 1.81882, 0.0], [-17.7551, -10.6122, 3.14159, 0.0], [-2.44898, 0.612245, -0.826735, 0.0], [5.71429, 3.67347, 0.165347, 0.0], [-17.7551, -12.6531, -2.8109, 0.0], [12.8571, -1.42857, 0.496041, 0.0], [12.8571, 2.65306, 0.826735, 0.0], [-14.6939, -4.4898, -2.4802, 0.0], [-9.59184, -3.46939, 2.14951, 0.0], [-6.53061, -1.42857, -0.165347, 0.0]  …  [-10.6122, -3.46939, 0.826735, 0.0], [-4.4898, -3.46939, -2.14951, 0.0], [-6.53061, -0.408163, 1.15743, 0.0], [12.8571, -2.44898, -1.81882, 0.0], [7.7551, -3.46939, 3.14159, 0.0], [-17.7551, -8.57143, 0.496041, 0.0], [-14.6939, -1.42857, -2.8109, 0.0], [1.63265, 1.63265, -0.496041, 0.0], [-22.8571, -2.44898, 0.826735, 0.0], [-22.8571, -9.59184, 0.496041, 0.0]], nothing)"
      ]
     },
     "execution_count": 10,
     "metadata": {},
     "output_type": "execute_result"
    }
   ],
   "source": [
    "dist = initialstate_distribution(m)\n",
    "b0 = initialize_belief(belief_updater, dist)"
   ]
  },
  {
   "cell_type": "code",
   "execution_count": 13,
   "metadata": {},
   "outputs": [
    {
     "data": {
      "text/plain": [
       "ParticleCollection{RoombaState}"
      ]
     },
     "execution_count": 13,
     "metadata": {},
     "output_type": "execute_result"
    }
   ],
   "source": [
    "typeof(b0)"
   ]
  },
  {
   "cell_type": "code",
   "execution_count": 13,
   "metadata": {},
   "outputs": [],
   "source": [
    "using Distributions"
   ]
  },
  {
   "cell_type": "code",
   "execution_count": 15,
   "metadata": {},
   "outputs": [
    {
     "data": {
      "text/plain": [
       "Distribution{Multivariate,S} where S<:ValueSupport"
      ]
     },
     "execution_count": 15,
     "metadata": {},
     "output_type": "execute_result"
    }
   ],
   "source": [
    "Distributions.MultivariateDistribution"
   ]
  },
  {
   "cell_type": "code",
   "execution_count": 17,
   "metadata": {},
   "outputs": [
    {
     "ename": "UndefVarError",
     "evalue": "UndefVarError: MvNormall not defined",
     "output_type": "error",
     "traceback": [
      "UndefVarError: MvNormall not defined",
      "",
      "Stacktrace:",
      " [1] top-level scope at In[17]:2"
     ]
    }
   ],
   "source": [
    "dist = initialstate_distribution(m)\n",
    "b0 = Multinomial(, k)"
   ]
  },
  {
   "cell_type": "code",
   "execution_count": 15,
   "metadata": {},
   "outputs": [
    {
     "data": {
      "text/plain": [
       "Distributions"
      ]
     },
     "execution_count": 15,
     "metadata": {},
     "output_type": "execute_result"
    }
   ],
   "source": [
    "Distributions"
   ]
  },
  {
   "cell_type": "code",
   "execution_count": 16,
   "metadata": {},
   "outputs": [
    {
     "ename": "ErrorException",
     "evalue": "invalid subtyping in definition of aaa",
     "output_type": "error",
     "traceback": [
      "invalid subtyping in definition of aaa",
      "",
      "Stacktrace:",
      " [1] top-level scope at none:0"
     ]
    }
   ],
   "source": [
    "struct aaa <: Multinomial\n",
    "end"
   ]
  },
  {
   "cell_type": "code",
   "execution_count": null,
   "metadata": {},
   "outputs": [],
   "source": []
  }
 ],
 "metadata": {
  "kernelspec": {
   "display_name": "Julia 1.0.2",
   "language": "julia",
   "name": "julia-1.0"
  },
  "language_info": {
   "file_extension": ".jl",
   "mimetype": "application/julia",
   "name": "julia",
   "version": "1.0.2"
  }
 },
 "nbformat": 4,
 "nbformat_minor": 2
}
