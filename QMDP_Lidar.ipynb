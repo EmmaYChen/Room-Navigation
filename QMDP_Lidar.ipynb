{
 "cells": [
  {
   "cell_type": "code",
   "execution_count": 1,
   "metadata": {},
   "outputs": [
    {
     "data": {
      "text/plain": [
       "\"/Users/shengji/Documents/GitHub/Room-Navigation/Project.toml\""
      ]
     },
     "execution_count": 1,
     "metadata": {},
     "output_type": "execute_result"
    }
   ],
   "source": [
    "# activate project environment\n",
    "# include these lines of code in any future scripts/notebooks\n",
    "#---\n",
    "import Pkg\n",
    "if !haskey(Pkg.installed(), \"AA228FinalProject\")\n",
    "    jenv = joinpath(dirname(@__FILE__()), \".\") # this assumes the notebook is in the same dir\n",
    "    # as the Project.toml file, which should be in top level dir of the project. \n",
    "    # Change accordingly if this is not the case.\n",
    "    Pkg.activate(jenv)\n",
    "end\n",
    "#---"
   ]
  },
  {
   "cell_type": "code",
   "execution_count": 2,
   "metadata": {},
   "outputs": [
    {
     "name": "stderr",
     "output_type": "stream",
     "text": [
      "\n",
      "(process:77498): Gtk-WARNING **: 20:19:45.799: Locale not supported by C library.\n",
      "\tUsing the fallback 'C' locale.\n",
      "┌ Info: Recompiling stale cache file /Users/shengji/.julia/compiled/v1.0/QMDP/vYw0A.ji for QMDP [3aa3ecc9-5a5d-57c8-8188-3e47bd8068d2]\n",
      "└ @ Base loading.jl:1190\n"
     ]
    }
   ],
   "source": [
    "# import necessary packages\n",
    "using AA228FinalProject\n",
    "using POMDPs\n",
    "using POMDPPolicies\n",
    "using BeliefUpdaters\n",
    "using ParticleFilters\n",
    "using POMDPSimulators\n",
    "using Cairo\n",
    "using Gtk\n",
    "using Random\n",
    "using Printf\n",
    "using QMDP"
   ]
  },
  {
   "cell_type": "code",
   "execution_count": 3,
   "metadata": {},
   "outputs": [],
   "source": [
    "num_x_pts = 50 # e.g. 50\n",
    "num_y_pts = 50 # e.g. 50\n",
    "num_th_pts = 20 # e.g. 20\n",
    "sspace = DiscreteRoombaStateSpace(num_x_pts,num_y_pts,num_th_pts);"
   ]
  },
  {
   "cell_type": "code",
   "execution_count": 4,
   "metadata": {},
   "outputs": [],
   "source": [
    "vlist = [0, 1, 2, 3]\n",
    "omlist = [-1, -0.5, 0, 0.5, 1]\n",
    "aspace = vec(collect(RoombaAct(v, om) for v in vlist, om in omlist));"
   ]
  },
  {
   "cell_type": "code",
   "execution_count": 5,
   "metadata": {},
   "outputs": [],
   "source": [
    "cut_points = [1, 2, 3, 5, 10, 20, 50]\n",
    "sensor = DiscreteLidar(cut_points);"
   ]
  },
  {
   "cell_type": "code",
   "execution_count": 6,
   "metadata": {},
   "outputs": [],
   "source": [
    "config = 3 # 1,2, or 3\n",
    "m = RoombaPOMDP(sensor=sensor, mdp=RoombaMDP(config=config, sspace=sspace, aspace=aspace));"
   ]
  },
  {
   "cell_type": "code",
   "execution_count": 7,
   "metadata": {},
   "outputs": [],
   "source": [
    "num_particles = 2000\n",
    "resampler = LidarResampler(num_particles, LowVarianceResampler(num_particles))\n",
    "# for the bumper environment\n",
    "# resampler = BumperResampler(num_particles)\n",
    "\n",
    "spf = SimpleParticleFilter(m, resampler)\n",
    "\n",
    "v_noise_coefficient = 2.0\n",
    "om_noise_coefficient = 0.5\n",
    "\n",
    "belief_updater = RoombaParticleFilter(spf, v_noise_coefficient, om_noise_coefficient);"
   ]
  },
  {
   "cell_type": "code",
   "execution_count": 9,
   "metadata": {},
   "outputs": [
    {
     "name": "stdout",
     "output_type": "stream",
     "text": [
      "[Iteration 1   ] residual:        9.9 | iteration runtime:  63686.201 ms, (      63.7 s total)\n",
      "[Iteration 2   ] residual:        9.4 | iteration runtime: 121572.119 ms, (       185 s total)\n",
      "[Iteration 3   ] residual:        4.3 | iteration runtime: 127732.432 ms, (       313 s total)\n"
     ]
    },
    {
     "ename": "InterruptException",
     "evalue": "InterruptException:",
     "output_type": "error",
     "traceback": [
      "InterruptException:",
      "",
      "Stacktrace:",
      " [1] intersect_line_linesegment(::StaticArrays.SArray{Tuple{2},Float64,1,2}, ::StaticArrays.SArray{Tuple{2},Float64,1,2}, ::Array{Float64,1}, ::Array{Float64,1}) at /Users/shengji/Documents/GitHub/Room-Navigation/src/line_segment_utils.jl:53",
      " [2] furthest_step(::AA228FinalProject.LineSegment, ::StaticArrays.SArray{Tuple{2},Float64,1,2}, ::StaticArrays.SArray{Tuple{2},Float64,1,2}, ::Float64) at /Users/shengji/Documents/GitHub/Room-Navigation/src/line_segment_utils.jl:210",
      " [3] (::getfield(AA228FinalProject, Symbol(\"##7#8\")){StaticArrays.SArray{Tuple{2},Float64,1,2},StaticArrays.SArray{Tuple{2},Float64,1,2}})(::AA228FinalProject.LineSegment) at ./none:0",
      " [4] iterate at ./generator.jl:47 [inlined]",
      " [5] mapfoldl_impl at ./reduce.jl:53 [inlined]",
      " [6] #mapfoldl#170 at ./reduce.jl:70 [inlined]",
      " [7] mapfoldl at ./reduce.jl:70 [inlined]",
      " [8] #mapreduce#174 at ./reduce.jl:203 [inlined]",
      " [9] mapreduce at ./reduce.jl:203 [inlined]",
      " [10] minimum at ./reduce.jl:501 [inlined]",
      " [11] furthest_step at /Users/shengji/Documents/GitHub/Room-Navigation/src/env_room.jl:146 [inlined]",
      " [12] #17 at ./none:0 [inlined]",
      " [13] iterate at ./generator.jl:47 [inlined]",
      " [14] mapfoldl_impl(::typeof(identity), ::typeof(min), ::NamedTuple{(:init,),Tuple{Float64}}, ::Base.Generator{Array{AA228FinalProject.Rectangle,1},getfield(AA228FinalProject, Symbol(\"##17#18\")){StaticArrays.SArray{Tuple{2},Float64,1,2},StaticArrays.SArray{Tuple{2},Float64,1,2}}}, ::Int64) at ./reduce.jl:45",
      " [15] mapfoldl_impl(::Function, ::Function, ::NamedTuple{(),Tuple{}}, ::Base.Generator{Array{AA228FinalProject.Rectangle,1},getfield(AA228FinalProject, Symbol(\"##17#18\")){StaticArrays.SArray{Tuple{2},Float64,1,2},StaticArrays.SArray{Tuple{2},Float64,1,2}}}) at ./reduce.jl:59",
      " [16] #mapfoldl#170 at ./reduce.jl:70 [inlined]",
      " [17] mapfoldl(::Function, ::Function, ::Base.Generator{Array{AA228FinalProject.Rectangle,1},getfield(AA228FinalProject, Symbol(\"##17#18\")){StaticArrays.SArray{Tuple{2},Float64,1,2},StaticArrays.SArray{Tuple{2},Float64,1,2}}}) at ./reduce.jl:70",
      " [18] #mapreduce#174 at ./reduce.jl:203 [inlined]",
      " [19] mapreduce at ./reduce.jl:203 [inlined]",
      " [20] minimum at ./reduce.jl:501 [inlined]",
      " [21] legal_translate(::AA228FinalProject.Room, ::StaticArrays.SArray{Tuple{2},Float64,1,2}, ::StaticArrays.SArray{Tuple{2},Float64,1,2}, ::Float64) at /Users/shengji/Documents/GitHub/Room-Navigation/src/env_room.jl:273",
      " [22] transition(::RoombaPOMDP{DiscreteLidar,Int64}, ::RoombaState, ::RoombaAct) at /Users/shengji/Documents/GitHub/Room-Navigation/src/roomba_env.jl:240",
      " [23] #solve#3(::Base.Iterators.Pairs{Union{},Union{},Tuple{},NamedTuple{(),Tuple{}}}, ::Function, ::DiscreteValueIteration.ValueIterationSolver, ::RoombaPOMDP{DiscreteLidar,Int64}) at /Users/shengji/.julia/packages/DiscreteValueIteration/ezxsV/src/vanilla.jl:77",
      " [24] solve at /Users/shengji/.julia/packages/DiscreteValueIteration/ezxsV/src/vanilla.jl:56 [inlined]",
      " [25] macro expansion at ./logging.jl:306 [inlined]",
      " [26] #solve#2(::Base.Iterators.Pairs{Union{},Union{},Tuple{},NamedTuple{(),Tuple{}}}, ::Function, ::QMDPSolver, ::RoombaPOMDP{DiscreteLidar,Int64}) at /Users/shengji/.julia/packages/QMDP/gq4Nj/src/vanilla.jl:37",
      " [27] solve(::QMDPSolver, ::RoombaPOMDP{DiscreteLidar,Int64}) at /Users/shengji/.julia/packages/QMDP/gq4Nj/src/vanilla.jl:36",
      " [28] top-level scope at In[9]:2"
     ]
    }
   ],
   "source": [
    "solver = QMDPSolver(max_iterations=20, tolerance=1e-3, verbose=true)\n",
    "p = solve(solver, m);"
   ]
  },
  {
   "cell_type": "code",
   "execution_count": 39,
   "metadata": {},
   "outputs": [
    {
     "data": {
      "text/plain": [
       "20-element Array{RoombaAct,1}:\n",
       " [0.0, -1.0]\n",
       " [1.0, -1.0]\n",
       " [2.0, -1.0]\n",
       " [3.0, -1.0]\n",
       " [0.0, -0.5]\n",
       " [1.0, -0.5]\n",
       " [2.0, -0.5]\n",
       " [3.0, -0.5]\n",
       " [0.0, 0.0] \n",
       " [1.0, 0.0] \n",
       " [2.0, 0.0] \n",
       " [3.0, 0.0] \n",
       " [0.0, 0.5] \n",
       " [1.0, 0.5] \n",
       " [2.0, 0.5] \n",
       " [3.0, 0.5] \n",
       " [0.0, 1.0] \n",
       " [1.0, 1.0] \n",
       " [2.0, 1.0] \n",
       " [3.0, 1.0] "
      ]
     },
     "execution_count": 39,
     "metadata": {},
     "output_type": "execute_result"
    }
   ],
   "source": [
    "p.action_map"
   ]
  },
  {
   "cell_type": "code",
   "execution_count": 40,
   "metadata": {},
   "outputs": [
    {
     "name": "stdout",
     "output_type": "stream",
     "text": [
      "1200000\n"
     ]
    }
   ],
   "source": [
    "println(sizeof(p.alphas[1]))"
   ]
  },
  {
   "cell_type": "code",
   "execution_count": 31,
   "metadata": {},
   "outputs": [
    {
     "ename": "MethodError",
     "evalue": "MethodError: POMDPs.action(::AlphaVectorPolicy{RoombaPOMDP{DiscreteLidar,Int64},RoombaAct}, ::ParticleCollection{RoombaState}) is ambiguous. Candidates:\n  action(p::Policy, b::ParticleCollection{RoombaState}) in Main at In[29]:2\n  action(p::AlphaVectorPolicy, b::AbstractParticleBelief) in ParticleFilters at /Users/shengji/.julia/packages/ParticleFilters/oMKH3/src/policies.jl:21\nPossible fix, define\n  action(::AlphaVectorPolicy, ::ParticleCollection{RoombaState})",
     "output_type": "error",
     "traceback": [
      "MethodError: POMDPs.action(::AlphaVectorPolicy{RoombaPOMDP{DiscreteLidar,Int64},RoombaAct}, ::ParticleCollection{RoombaState}) is ambiguous. Candidates:\n  action(p::Policy, b::ParticleCollection{RoombaState}) in Main at In[29]:2\n  action(p::AlphaVectorPolicy, b::AbstractParticleBelief) in ParticleFilters at /Users/shengji/.julia/packages/ParticleFilters/oMKH3/src/policies.jl:21\nPossible fix, define\n  action(::AlphaVectorPolicy, ::ParticleCollection{RoombaState})",
      "",
      "Stacktrace:",
      " [1] action_info(::AlphaVectorPolicy{RoombaPOMDP{DiscreteLidar,Int64},RoombaAct}, ::ParticleCollection{RoombaState}) at /Users/shengji/.julia/packages/POMDPModelTools/eHEjm/src/info.jl:30",
      " [2] iterate at /Users/shengji/.julia/packages/POMDPSimulators/xyfJM/src/stepthrough.jl:102 [inlined]",
      " [3] iterate at /Users/shengji/.julia/packages/POMDPSimulators/xyfJM/src/stepthrough.jl:96 [inlined]",
      " [4] iterate at ./iterators.jl:139 [inlined]",
      " [5] iterate(::Base.Iterators.Enumerate{POMDPSimulators.POMDPSimIterator{(:s, :a, :r, :sp, :t, :i, :ai, :b, :o, :bp, :ui),RoombaPOMDP{DiscreteLidar,Int64},AlphaVectorPolicy{RoombaPOMDP{DiscreteLidar,Int64},RoombaAct},RoombaParticleFilter,MersenneTwister,ParticleCollection{RoombaState},RoombaState}}) at ./iterators.jl:138",
      " [6] top-level scope at In[31]:4"
     ]
    }
   ],
   "source": [
    "# run the simulation\n",
    "c = @GtkCanvas()\n",
    "win = GtkWindow(c, \"Roomba Environment\", 600, 600)\n",
    "for (t, step) in enumerate(stepthrough(m, p, belief_updater, max_steps=100))\n",
    "    @guarded draw(c) do widget\n",
    "        \n",
    "        # the following lines render the room, the particles, and the roomba\n",
    "        ctx = getgc(c)\n",
    "        set_source_rgb(ctx,1,1,1)\n",
    "        paint(ctx)\n",
    "        render(ctx, m, step)\n",
    "        \n",
    "        # render some information that can help with debugging\n",
    "        # here, we render the time-step, the state, and the observation\n",
    "        move_to(ctx,300,400)\n",
    "        show_text(ctx, @sprintf(\"t=%d, state=%s, o=%.3f\",t,string(step.s),step.o))\n",
    "    end\n",
    "    show(c)\n",
    "    sleep(0.1) # to slow down the simulation\n",
    "end"
   ]
  },
  {
   "cell_type": "code",
   "execution_count": 17,
   "metadata": {},
   "outputs": [
    {
     "name": "stderr",
     "output_type": "stream",
     "text": [
      "┌ Info: Recompiling stale cache file /Users/shengji/.julia/compiled/v1.0/JLD/l8ijy.ji for JLD [4138dd39-2aa7-5051-a626-17a0bb65d9c8]\n",
      "└ @ Base loading.jl:1190\n"
     ]
    }
   ],
   "source": [
    "using JLD\n",
    "JLD.save(\"QMDP_Lidar_policy.jld\", \"policy\", p)"
   ]
  },
  {
   "cell_type": "code",
   "execution_count": 3,
   "metadata": {},
   "outputs": [
    {
     "name": "stderr",
     "output_type": "stream",
     "text": [
      "┌ Warning: type POMDPPolicies.AlphaVectorPolicy{AA228FinalProject.RoombaPOMDP{AA228FinalProject.DiscreteLidar,Core.Int64},AA228FinalProject.RoombaAct} not present in workspace; reconstructing\n",
      "└ @ JLD /Users/shengji/.julia/packages/JLD/1BoSz/src/jld_types.jl:703\n",
      "┌ Warning: type AA228FinalProject.RoombaPOMDP{AA228FinalProject.DiscreteLidar,Core.Int64} not present in workspace; reconstructing\n",
      "└ @ JLD /Users/shengji/.julia/packages/JLD/1BoSz/src/jld_types.jl:703\n",
      "┌ Warning: type AA228FinalProject.DiscreteLidar not present in workspace; reconstructing\n",
      "└ @ JLD /Users/shengji/.julia/packages/JLD/1BoSz/src/jld_types.jl:703\n",
      "┌ Warning: type AA228FinalProject.RoombaMDP{AA228FinalProject.DiscreteRoombaStateSpace,Core.Array{AA228FinalProject.RoombaAct,1}} not present in workspace; reconstructing\n",
      "└ @ JLD /Users/shengji/.julia/packages/JLD/1BoSz/src/jld_types.jl:703\n",
      "┌ Warning: type AA228FinalProject.Room not present in workspace; reconstructing\n",
      "└ @ JLD /Users/shengji/.julia/packages/JLD/1BoSz/src/jld_types.jl:703\n",
      "┌ Warning: type AA228FinalProject.Rectangle not present in workspace; interpreting array as Array{Any}\n",
      "└ @ JLD /Users/shengji/.julia/packages/JLD/1BoSz/src/JLD.jl:486\n",
      "┌ Warning: type AA228FinalProject.Rectangle not present in workspace; reconstructing\n",
      "└ @ JLD /Users/shengji/.julia/packages/JLD/1BoSz/src/jld_types.jl:703\n",
      "┌ Warning: type AA228FinalProject.LineSegment not present in workspace; interpreting array as Array{Any}\n",
      "└ @ JLD /Users/shengji/.julia/packages/JLD/1BoSz/src/JLD.jl:486\n",
      "┌ Warning: type AA228FinalProject.LineSegment not present in workspace; reconstructing\n",
      "└ @ JLD /Users/shengji/.julia/packages/JLD/1BoSz/src/jld_types.jl:703\n",
      "┌ Warning: type AA228FinalProject.LineSegment not present in workspace; interpreting array as Array{Any}\n",
      "└ @ JLD /Users/shengji/.julia/packages/JLD/1BoSz/src/JLD.jl:486\n",
      "┌ Warning: type AA228FinalProject.LineSegment not present in workspace; interpreting array as Array{Any}\n",
      "└ @ JLD /Users/shengji/.julia/packages/JLD/1BoSz/src/JLD.jl:486\n",
      "┌ Warning: type AA228FinalProject.LineSegment not present in workspace; interpreting array as Array{Any}\n",
      "└ @ JLD /Users/shengji/.julia/packages/JLD/1BoSz/src/JLD.jl:486\n",
      "┌ Warning: type AA228FinalProject.DiscreteRoombaStateSpace not present in workspace; reconstructing\n",
      "└ @ JLD /Users/shengji/.julia/packages/JLD/1BoSz/src/jld_types.jl:703\n",
      "┌ Warning: type AA228FinalProject.RoombaAct not present in workspace; reconstructing\n",
      "└ @ JLD /Users/shengji/.julia/packages/JLD/1BoSz/src/jld_types.jl:703\n",
      "┌ Warning: type JLD.AssociativeWrapper{AA228FinalProject.RoombaAct,Core.Int64,Base.Dict{AA228FinalProject.RoombaAct,Core.Int64}} not present in workspace; reconstructing\n",
      "└ @ JLD /Users/shengji/.julia/packages/JLD/1BoSz/src/jld_types.jl:703\n"
     ]
    },
    {
     "data": {
      "text/plain": [
       "Dict{String,Any} with 1 entry:\n",
       "  \"policy\" => ##POMDPPolicies.AlphaVectorPolicy{AA228FinalProject.RoombaPOMDP{A…"
      ]
     },
     "execution_count": 3,
     "metadata": {},
     "output_type": "execute_result"
    }
   ],
   "source": [
    "d = JLD.load(\"QMDP_Lidar_policy.jld\")"
   ]
  }
 ],
 "metadata": {
  "kernelspec": {
   "display_name": "Julia 1.0.2",
   "language": "julia",
   "name": "julia-1.0"
  },
  "language_info": {
   "file_extension": ".jl",
   "mimetype": "application/julia",
   "name": "julia",
   "version": "1.0.2"
  }
 },
 "nbformat": 4,
 "nbformat_minor": 2
}
