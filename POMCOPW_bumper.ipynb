{
 "cells": [
  {
   "cell_type": "code",
   "execution_count": 1,
   "metadata": {},
   "outputs": [
    {
     "name": "stderr",
     "output_type": "stream",
     "text": [
      "┌ Info: Recompiling stale cache file /Users/shengji/.julia/compiled/v1.0/AA228FinalProject/uFJfC.ji for AA228FinalProject [fe2df5ea-4d44-4e5a-a895-9dbc87b19b37]\n",
      "└ @ Base loading.jl:1190\n",
      "\n",
      "(process:1360): Gtk-WARNING **: 20:53:32.880: Locale not supported by C library.\n",
      "\tUsing the fallback 'C' locale.\n"
     ]
    }
   ],
   "source": [
    "import Pkg\n",
    "if !haskey(Pkg.installed(), \"AA228FinalProject\")\n",
    "    jenv = joinpath(dirname(@__FILE__()), \".\") # this assumes the notebook is in the same dir\n",
    "    # as the Project.toml file, which should be in top level dir of the project. \n",
    "    # Change accordingly if this is not the case.\n",
    "    Pkg.activate(jenv)\n",
    "end\n",
    "#---\n",
    "\n",
    "# import necessary packages\n",
    "using AA228FinalProject\n",
    "using POMDPs\n",
    "using POMDPPolicies\n",
    "using BeliefUpdaters\n",
    "using ParticleFilters\n",
    "using POMDPSimulators\n",
    "using Cairo\n",
    "using Gtk\n",
    "using Random\n",
    "using Printf\n",
    "using JLD\n",
    "using POMCPOW"
   ]
  },
  {
   "cell_type": "code",
   "execution_count": 2,
   "metadata": {},
   "outputs": [],
   "source": [
    "discretize = false;\n",
    "config = 3 # 1,2, or 3;"
   ]
  },
  {
   "cell_type": "code",
   "execution_count": 8,
   "metadata": {},
   "outputs": [],
   "source": [
    "sensor = Bumper()\n",
    "vlist = [0, 0.5, 1, 2]\n",
    "omlist = [-1, -0.5, 0, 0.5, 1]\n",
    "aspace = vec(collect(RoombaAct(v, om) for v in vlist, om in omlist));"
   ]
  },
  {
   "cell_type": "code",
   "execution_count": 9,
   "metadata": {},
   "outputs": [],
   "source": [
    "if discretize\n",
    "    num_x_pts = 50 # e.g. 50\n",
    "    num_y_pts = 50 # e.g. 50\n",
    "    num_th_pts = 20 # e.g. 20\n",
    "    sspace = DiscreteRoombaStateSpace(num_x_pts,num_y_pts,num_th_pts);\n",
    "    m = RoombaPOMDP(sensor=sensor, mdp=RoombaMDP(config=config, sspace=sspace, aspace=aspace));\n",
    "else\n",
    "    m = RoombaPOMDP(sensor=sensor, mdp=RoombaMDP(config=config, aspace=aspace));\n",
    "end;"
   ]
  },
  {
   "cell_type": "code",
   "execution_count": 10,
   "metadata": {},
   "outputs": [],
   "source": [
    "num_particles = 2000\n",
    "resampler = BumperResampler(num_particles)\n",
    "spf = SimpleParticleFilter(m, resampler)\n",
    "v_noise_coefficient = 2.0 #2.0\n",
    "om_noise_coefficient = 0.5 #0.5\n",
    "belief_updater = RoombaParticleFilter(spf, v_noise_coefficient, om_noise_coefficient);"
   ]
  },
  {
   "cell_type": "code",
   "execution_count": 6,
   "metadata": {},
   "outputs": [],
   "source": [
    "solver = POMCPOWSolver(criterion=MaxQ())\n",
    "planner = solve(solver, m);"
   ]
  },
  {
   "cell_type": "code",
   "execution_count": 7,
   "metadata": {},
   "outputs": [
    {
     "ename": "InterruptException",
     "evalue": "InterruptException:",
     "output_type": "error",
     "traceback": [
      "InterruptException:",
      "",
      "Stacktrace:",
      " [1] _growend! at ./array.jl:814 [inlined]",
      " [2] push! at ./array.jl:862 [inlined]",
      " [3] wall_contact(::AA228FinalProject.Rectangle, ::Array{Float64,1}) at /Users/shengji/Documents/GitHub/Room-Navigation/src/env_room.jl:127",
      " [4] wall_contact(::AA228FinalProject.Room, ::Array{Float64,1}) at /Users/shengji/Documents/GitHub/Room-Navigation/src/env_room.jl:272",
      " [5] wall_contact at /Users/shengji/Documents/GitHub/Room-Navigation/src/roomba_env.jl:182 [inlined]",
      " [6] reward(::RoombaPOMDP{Bumper,Bool}, ::RoombaState, ::RoombaAct, ::RoombaState) at /Users/shengji/Documents/GitHub/Room-Navigation/src/roomba_env.jl:351",
      " [7] macro expansion at /Users/shengji/.julia/packages/POMDPs/JiYXY/src/generative_impl.jl:169 [inlined]",
      " [8] generate_sor(::RoombaPOMDP{Bumper,Bool}, ::RoombaState, ::RoombaAct, ::MersenneTwister) at /Users/shengji/.julia/packages/POMDPs/JiYXY/src/generative_impl.jl:167",
      " [9] simulate(::RolloutSimulator{MersenneTwister}, ::RoombaPOMDP{Bumper,Bool}, ::RandomPolicy{MersenneTwister,RoombaPOMDP{Bumper,Bool},NothingUpdater}, ::NothingUpdater, ::Nothing, ::RoombaState) at /Users/shengji/.julia/packages/POMDPSimulators/xyfJM/src/rollout.jl:102",
      " [10] rollout at /Users/shengji/.julia/packages/BasicPOMCP/01DOC/src/rollout.jl:81 [inlined]",
      " [11] estimate_value at /Users/shengji/.julia/packages/BasicPOMCP/01DOC/src/rollout.jl:41 [inlined]",
      " [12] macro expansion at ./logging.jl:306 [inlined]",
      " [13] simulate(::POMCPOWPlanner{RoombaPOMDP{Bumper,Bool},POMCPOW.POWNodeFilter,MaxQ,MCTS.RandomActionGenerator{MersenneTwister},BasicPOMCP.SolvedPORollout{RandomPolicy{MersenneTwister,RoombaPOMDP{Bumper,Bool},NothingUpdater},NothingUpdater,MersenneTwister},Int64,Float64,POMCPOWSolver}, ::POWTreeObsNode{POWNodeBelief{RoombaState,RoombaAct,Bool,RoombaPOMDP{Bumper,Bool}},RoombaAct,Bool,ParticleCollection{RoombaState}}, ::RoombaState, ::Int64) at /Users/shengji/.julia/packages/POMCPOW/NUKsh/src/solver2.jl:72",
      " [14] macro expansion at ./logging.jl:312 [inlined]",
      " [15] simulate(::POMCPOWPlanner{RoombaPOMDP{Bumper,Bool},POMCPOW.POWNodeFilter,MaxQ,MCTS.RandomActionGenerator{MersenneTwister},BasicPOMCP.SolvedPORollout{RandomPolicy{MersenneTwister,RoombaPOMDP{Bumper,Bool},NothingUpdater},NothingUpdater,MersenneTwister},Int64,Float64,POMCPOWSolver}, ::POWTreeObsNode{POWNodeBelief{RoombaState,RoombaAct,Bool,RoombaPOMDP{Bumper,Bool}},RoombaAct,Bool,ParticleCollection{RoombaState}}, ::RoombaState, ::Int64) at /Users/shengji/.julia/packages/POMCPOW/NUKsh/src/solver2.jl:72",
      " [16] macro expansion at ./logging.jl:312 [inlined]",
      " [17] simulate(::POMCPOWPlanner{RoombaPOMDP{Bumper,Bool},POMCPOW.POWNodeFilter,MaxQ,MCTS.RandomActionGenerator{MersenneTwister},BasicPOMCP.SolvedPORollout{RandomPolicy{MersenneTwister,RoombaPOMDP{Bumper,Bool},NothingUpdater},NothingUpdater,MersenneTwister},Int64,Float64,POMCPOWSolver}, ::POWTreeObsNode{POWNodeBelief{RoombaState,RoombaAct,Bool,RoombaPOMDP{Bumper,Bool}},RoombaAct,Bool,ParticleCollection{RoombaState}}, ::RoombaState, ::Int64) at /Users/shengji/.julia/packages/POMCPOW/NUKsh/src/solver2.jl:72",
      " [18] macro expansion at ./logging.jl:312 [inlined]",
      " [19] simulate(::POMCPOWPlanner{RoombaPOMDP{Bumper,Bool},POMCPOW.POWNodeFilter,MaxQ,MCTS.RandomActionGenerator{MersenneTwister},BasicPOMCP.SolvedPORollout{RandomPolicy{MersenneTwister,RoombaPOMDP{Bumper,Bool},NothingUpdater},NothingUpdater,MersenneTwister},Int64,Float64,POMCPOWSolver}, ::POWTreeObsNode{POWNodeBelief{RoombaState,RoombaAct,Bool,RoombaPOMDP{Bumper,Bool}},RoombaAct,Bool,ParticleCollection{RoombaState}}, ::RoombaState, ::Int64) at /Users/shengji/.julia/packages/POMCPOW/NUKsh/src/solver2.jl:72",
      " [20] macro expansion at ./logging.jl:312 [inlined]",
      " [21] simulate(::POMCPOWPlanner{RoombaPOMDP{Bumper,Bool},POMCPOW.POWNodeFilter,MaxQ,MCTS.RandomActionGenerator{MersenneTwister},BasicPOMCP.SolvedPORollout{RandomPolicy{MersenneTwister,RoombaPOMDP{Bumper,Bool},NothingUpdater},NothingUpdater,MersenneTwister},Int64,Float64,POMCPOWSolver}, ::POWTreeObsNode{POWNodeBelief{RoombaState,RoombaAct,Bool,RoombaPOMDP{Bumper,Bool}},RoombaAct,Bool,ParticleCollection{RoombaState}}, ::RoombaState, ::Int64) at /Users/shengji/.julia/packages/POMCPOW/NUKsh/src/solver2.jl:72",
      " [22] macro expansion at ./logging.jl:312 [inlined]",
      " [23] simulate(::POMCPOWPlanner{RoombaPOMDP{Bumper,Bool},POMCPOW.POWNodeFilter,MaxQ,MCTS.RandomActionGenerator{MersenneTwister},BasicPOMCP.SolvedPORollout{RandomPolicy{MersenneTwister,RoombaPOMDP{Bumper,Bool},NothingUpdater},NothingUpdater,MersenneTwister},Int64,Float64,POMCPOWSolver}, ::POWTreeObsNode{POWNodeBelief{RoombaState,RoombaAct,Bool,RoombaPOMDP{Bumper,Bool}},RoombaAct,Bool,ParticleCollection{RoombaState}}, ::RoombaState, ::Int64) at /Users/shengji/.julia/packages/POMCPOW/NUKsh/src/solver2.jl:72",
      " [24] macro expansion at ./logging.jl:312 [inlined]",
      " [25] simulate(::POMCPOWPlanner{RoombaPOMDP{Bumper,Bool},POMCPOW.POWNodeFilter,MaxQ,MCTS.RandomActionGenerator{MersenneTwister},BasicPOMCP.SolvedPORollout{RandomPolicy{MersenneTwister,RoombaPOMDP{Bumper,Bool},NothingUpdater},NothingUpdater,MersenneTwister},Int64,Float64,POMCPOWSolver}, ::POWTreeObsNode{POWNodeBelief{RoombaState,RoombaAct,Bool,RoombaPOMDP{Bumper,Bool}},RoombaAct,Bool,ParticleCollection{RoombaState}}, ::RoombaState, ::Int64) at /Users/shengji/.julia/packages/POMCPOW/NUKsh/src/solver2.jl:72",
      " [26] macro expansion at ./logging.jl:312 [inlined]",
      " [27] simulate(::POMCPOWPlanner{RoombaPOMDP{Bumper,Bool},POMCPOW.POWNodeFilter,MaxQ,MCTS.RandomActionGenerator{MersenneTwister},BasicPOMCP.SolvedPORollout{RandomPolicy{MersenneTwister,RoombaPOMDP{Bumper,Bool},NothingUpdater},NothingUpdater,MersenneTwister},Int64,Float64,POMCPOWSolver}, ::POWTreeObsNode{POWNodeBelief{RoombaState,RoombaAct,Bool,RoombaPOMDP{Bumper,Bool}},RoombaAct,Bool,ParticleCollection{RoombaState}}, ::RoombaState, ::Int64) at /Users/shengji/.julia/packages/POMCPOW/NUKsh/src/solver2.jl:72",
      " [28] macro expansion at ./logging.jl:312 [inlined]",
      " [29] simulate(::POMCPOWPlanner{RoombaPOMDP{Bumper,Bool},POMCPOW.POWNodeFilter,MaxQ,MCTS.RandomActionGenerator{MersenneTwister},BasicPOMCP.SolvedPORollout{RandomPolicy{MersenneTwister,RoombaPOMDP{Bumper,Bool},NothingUpdater},NothingUpdater,MersenneTwister},Int64,Float64,POMCPOWSolver}, ::POWTreeObsNode{POWNodeBelief{RoombaState,RoombaAct,Bool,RoombaPOMDP{Bumper,Bool}},RoombaAct,Bool,ParticleCollection{RoombaState}}, ::RoombaState, ::Int64) at /Users/shengji/.julia/packages/POMCPOW/NUKsh/src/solver2.jl:72",
      " [30] macro expansion at ./logging.jl:312 [inlined]",
      " [31] simulate(::POMCPOWPlanner{RoombaPOMDP{Bumper,Bool},POMCPOW.POWNodeFilter,MaxQ,MCTS.RandomActionGenerator{MersenneTwister},BasicPOMCP.SolvedPORollout{RandomPolicy{MersenneTwister,RoombaPOMDP{Bumper,Bool},NothingUpdater},NothingUpdater,MersenneTwister},Int64,Float64,POMCPOWSolver}, ::POWTreeObsNode{POWNodeBelief{RoombaState,RoombaAct,Bool,RoombaPOMDP{Bumper,Bool}},RoombaAct,Bool,ParticleCollection{RoombaState}}, ::RoombaState, ::Int64) at /Users/shengji/.julia/packages/POMCPOW/NUKsh/src/solver2.jl:72",
      " [32] macro expansion at ./logging.jl:312 [inlined]",
      " [33] simulate(::POMCPOWPlanner{RoombaPOMDP{Bumper,Bool},POMCPOW.POWNodeFilter,MaxQ,MCTS.RandomActionGenerator{MersenneTwister},BasicPOMCP.SolvedPORollout{RandomPolicy{MersenneTwister,RoombaPOMDP{Bumper,Bool},NothingUpdater},NothingUpdater,MersenneTwister},Int64,Float64,POMCPOWSolver}, ::POWTreeObsNode{POWNodeBelief{RoombaState,RoombaAct,Bool,RoombaPOMDP{Bumper,Bool}},RoombaAct,Bool,ParticleCollection{RoombaState}}, ::RoombaState, ::Int64) at /Users/shengji/.julia/packages/POMCPOW/NUKsh/src/solver2.jl:72",
      " [34] search(::POMCPOWPlanner{RoombaPOMDP{Bumper,Bool},POMCPOW.POWNodeFilter,MaxQ,MCTS.RandomActionGenerator{MersenneTwister},BasicPOMCP.SolvedPORollout{RandomPolicy{MersenneTwister,RoombaPOMDP{Bumper,Bool},NothingUpdater},NothingUpdater,MersenneTwister},Int64,Float64,POMCPOWSolver}, ::POMCPOWTree{POWNodeBelief{RoombaState,RoombaAct,Bool,RoombaPOMDP{Bumper,Bool}},RoombaAct,Bool,ParticleCollection{RoombaState}}, ::Dict{Symbol,Any}) at /Users/shengji/.julia/packages/POMCPOW/NUKsh/src/planner2.jl:64",
      " [35] #action_info#4(::Bool, ::Function, ::POMCPOWPlanner{RoombaPOMDP{Bumper,Bool},POMCPOW.POWNodeFilter,MaxQ,MCTS.RandomActionGenerator{MersenneTwister},BasicPOMCP.SolvedPORollout{RandomPolicy{MersenneTwister,RoombaPOMDP{Bumper,Bool},NothingUpdater},NothingUpdater,MersenneTwister},Int64,Float64,POMCPOWSolver}, ::ParticleCollection{RoombaState}) at /Users/shengji/.julia/packages/POMCPOW/NUKsh/src/planner2.jl:34",
      " [36] action_info at /Users/shengji/.julia/packages/POMCPOW/NUKsh/src/planner2.jl:28 [inlined]",
      " [37] iterate(::POMDPSimulators.POMDPSimIterator{(:s, :a, :r, :sp, :t, :i, :ai, :b, :o, :bp, :ui),RoombaPOMDP{Bumper,Bool},POMCPOWPlanner{RoombaPOMDP{Bumper,Bool},POMCPOW.POWNodeFilter,MaxQ,MCTS.RandomActionGenerator{MersenneTwister},BasicPOMCP.SolvedPORollout{RandomPolicy{MersenneTwister,RoombaPOMDP{Bumper,Bool},NothingUpdater},NothingUpdater,MersenneTwister},Int64,Float64,POMCPOWSolver},RoombaParticleFilter,MersenneTwister,ParticleCollection{RoombaState},RoombaState}, ::Tuple{Int64,RoombaState,ParticleCollection{RoombaState}}) at /Users/shengji/.julia/packages/POMDPSimulators/xyfJM/src/stepthrough.jl:102",
      " [38] iterate(::Base.Iterators.Enumerate{POMDPSimulators.POMDPSimIterator{(:s, :a, :r, :sp, :t, :i, :ai, :b, :o, :bp, :ui),RoombaPOMDP{Bumper,Bool},POMCPOWPlanner{RoombaPOMDP{Bumper,Bool},POMCPOW.POWNodeFilter,MaxQ,MCTS.RandomActionGenerator{MersenneTwister},BasicPOMCP.SolvedPORollout{RandomPolicy{MersenneTwister,RoombaPOMDP{Bumper,Bool},NothingUpdater},NothingUpdater,MersenneTwister},Int64,Float64,POMCPOWSolver},RoombaParticleFilter,MersenneTwister,ParticleCollection{RoombaState},RoombaState}}, ::Tuple{Int64,Tuple{Int64,RoombaState,ParticleCollection{RoombaState}}}) at ./iterators.jl:139",
      " [39] top-level scope at In[7]:20"
     ]
    }
   ],
   "source": [
    "# run the simulation\n",
    "c = @GtkCanvas()\n",
    "win = GtkWindow(c, \"Roomba Environment\", 600, 600)\n",
    "for (t, step) in enumerate(stepthrough(m, planner, belief_updater, max_steps=1000))\n",
    "    @guarded draw(c) do widget\n",
    "        \n",
    "        # the following lines render the room, the particles, and the roomba\n",
    "        ctx = getgc(c)\n",
    "        set_source_rgb(ctx,1,1,1)\n",
    "        paint(ctx)\n",
    "        render(ctx, m, step)\n",
    "        \n",
    "        # render some information that can help with debugging\n",
    "        # here, we render the time-step, the state, and the observation\n",
    "        move_to(ctx,300,400)\n",
    "        show_text(ctx, @sprintf(\"t=%d, state=%s, o=%.3f\",t,string(step.s),step.o))\n",
    "    end\n",
    "    show(c)\n",
    "    sleep(0.1) # to slow down the simulation\n",
    "end"
   ]
  },
  {
   "cell_type": "code",
   "execution_count": 11,
   "metadata": {},
   "outputs": [
    {
     "data": {
      "text/plain": [
       "true"
      ]
     },
     "execution_count": 11,
     "metadata": {},
     "output_type": "execute_result"
    }
   ],
   "source": [
    "0.0 == false"
   ]
  },
  {
   "cell_type": "code",
   "execution_count": null,
   "metadata": {},
   "outputs": [],
   "source": []
  }
 ],
 "metadata": {
  "kernelspec": {
   "display_name": "Julia 1.0.2",
   "language": "julia",
   "name": "julia-1.0"
  },
  "language_info": {
   "file_extension": ".jl",
   "mimetype": "application/julia",
   "name": "julia",
   "version": "1.0.2"
  }
 },
 "nbformat": 4,
 "nbformat_minor": 2
}
