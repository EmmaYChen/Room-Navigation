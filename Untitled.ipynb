{
 "cells": [
  {
   "cell_type": "code",
   "execution_count": 2,
   "metadata": {},
   "outputs": [
    {
     "name": "stderr",
     "output_type": "stream",
     "text": [
      "┌ Info: Precompiling POMDPToolbox [0729bffe-8e6b-52fa-a3fa-893719b744f4]\n",
      "└ @ Base loading.jl:1192\n",
      "┌ Warning: Importing POMDPToolbox. As of Julia 0.7 POMDPToolbox has been discontinued. Please use POMDPModelTools, POMDPPolicies, BeliefUpdaters, and/or POMDPSimulators instead.\n",
      "└ @ POMDPToolbox /Users/shengji/.julia/packages/POMDPToolbox/OdZy7/src/POMDPToolbox.jl:4\n",
      "┌ Info: Recompiling stale cache file /Users/shengji/.julia/compiled/v1.0/AEMS/n6IKx.ji for AEMS [3b430cce-3194-5812-b203-bf9e73c3e836]\n",
      "└ @ Base loading.jl:1190\n",
      "┌ Info: Recompiling stale cache file /Users/shengji/.julia/compiled/v1.0/POMDPModels/GHWgR.ji for POMDPModels [355abbd5-f08e-5560-ac9e-8b5f2592a0ca]\n",
      "└ @ Base loading.jl:1190\n",
      "WARNING: Method definition GridWorld(Any...) in module POMDPModels at deprecated.jl:29 overwritten at deprecated.jl:53.\n"
     ]
    }
   ],
   "source": [
    "using POMDPs, POMDPToolbox, AEMS, POMDPModels\n",
    "\n"
   ]
  },
  {
   "cell_type": "code",
   "execution_count": 3,
   "metadata": {},
   "outputs": [
    {
     "data": {
      "text/plain": [
       "AEMSSolver{AEMS.DefaultUpdater,AEMS.DefaultPolicy,AEMS.DefaultPolicy}(1000, 1.0, AEMS.DefaultUpdater(), AEMS.DefaultPolicy(), AEMS.DefaultPolicy(), :clear, :U)"
      ]
     },
     "execution_count": 3,
     "metadata": {},
     "output_type": "execute_result"
    }
   ],
   "source": [
    "pomdp = BabyPOMDP()\n",
    "solver = AEMSSolver()\n",
    "# planner = solve(solver, pomdp)      # planner is of type AEMSPlanner\n",
    "\n"
   ]
  },
  {
   "cell_type": "code",
   "execution_count": 4,
   "metadata": {},
   "outputs": [
    {
     "data": {
      "text/plain": [
       "AEMSPlanner{AEMSSolver{AEMS.DefaultUpdater,AEMS.DefaultPolicy,AEMS.DefaultPolicy},BabyPOMDP,BeliefUpdaters.DiscreteUpdater{BabyPOMDP},POMDPPolicies.AlphaVectorPolicy{BabyPOMDP,Bool},POMDPPolicies.AlphaVectorPolicy{BabyPOMDP,Bool},AEMS.Graph{AEMS.BeliefNode{BeliefUpdaters.DiscreteBelief{BabyPOMDP,Bool}}},Bool,Bool}(AEMSSolver{AEMS.DefaultUpdater,AEMS.DefaultPolicy,AEMS.DefaultPolicy}(1000, 1.0, AEMS.DefaultUpdater(), AEMS.DefaultPolicy(), AEMS.DefaultPolicy(), :clear, :U), BabyPOMDP(-5.0, -10.0, 0.1, 0.8, 0.1, 0.9), BeliefUpdaters.DiscreteUpdater{BabyPOMDP}(BabyPOMDP(-5.0, -10.0, 0.1, 0.8, 0.1, 0.9)), AEMS.Graph{AEMS.BeliefNode{BeliefUpdaters.DiscreteBelief{BabyPOMDP,Bool}}}(AEMS.ActionNode[], AEMS.BeliefNode{BeliefUpdaters.DiscreteBelief{BabyPOMDP,Bool}}[], 0, 0, 1, 0.9), POMDPPolicies.AlphaVectorPolicy{BabyPOMDP,Bool}(BabyPOMDP(-5.0, -10.0, 0.1, 0.8, 0.1, 0.9), Array{Float64,1}[[-47.3684, -100.0], [-50.0088, -60.0088]], Bool[false, true]), POMDPPolicies.AlphaVectorPolicy{BabyPOMDP,Bool}(BabyPOMDP(-5.0, -10.0, 0.1, 0.8, 0.1, 0.9), Array{Float64,1}[[-19.4557, -29.4557], [-16.0629, -36.5093]], Bool[false, true]), Bool[false, true], Bool[false, true], :clear)"
      ]
     },
     "execution_count": 4,
     "metadata": {},
     "output_type": "execute_result"
    }
   ],
   "source": [
    "planner = solve(solver, pomdp)      # planner is of type AEMSPlanner\n",
    "\n"
   ]
  },
  {
   "cell_type": "code",
   "execution_count": null,
   "metadata": {},
   "outputs": [],
   "source": [
    "# once you have a belief b\n",
    "a = action(planner, b)"
   ]
  },
  {
   "cell_type": "code",
   "execution_count": 5,
   "metadata": {},
   "outputs": [
    {
     "data": {
      "text/plain": [
       "BabyPOMDP(-5.0, -10.0, 0.1, 0.8, 0.1, 0.9)"
      ]
     },
     "execution_count": 5,
     "metadata": {},
     "output_type": "execute_result"
    }
   ],
   "source": [
    "pomdp"
   ]
  },
  {
   "cell_type": "code",
   "execution_count": null,
   "metadata": {},
   "outputs": [],
   "source": []
  }
 ],
 "metadata": {
  "kernelspec": {
   "display_name": "Julia 1.0.2",
   "language": "julia",
   "name": "julia-1.0"
  },
  "language_info": {
   "file_extension": ".jl",
   "mimetype": "application/julia",
   "name": "julia",
   "version": "1.0.2"
  }
 },
 "nbformat": 4,
 "nbformat_minor": 2
}
