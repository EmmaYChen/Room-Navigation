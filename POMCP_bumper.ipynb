{
 "cells": [
  {
   "cell_type": "code",
   "execution_count": 1,
   "metadata": {},
   "outputs": [
    {
     "name": "stderr",
     "output_type": "stream",
     "text": [
      "┌ Info: Recompiling stale cache file /Users/shengji/.julia/compiled/v1.0/AA228FinalProject/uFJfC.ji for AA228FinalProject [fe2df5ea-4d44-4e5a-a895-9dbc87b19b37]\n",
      "└ @ Base loading.jl:1190\n",
      "\n",
      "(process:85062): Gtk-WARNING **: 12:50:53.746: Locale not supported by C library.\n",
      "\tUsing the fallback 'C' locale.\n",
      "┌ Info: Recompiling stale cache file /Users/shengji/.julia/compiled/v1.0/BasicPOMCP/cHGKc.ji for BasicPOMCP [d721219e-3fc6-5570-a8ef-e5402f47c49e]\n",
      "└ @ Base loading.jl:1190\n"
     ]
    }
   ],
   "source": [
    "import Pkg\n",
    "if !haskey(Pkg.installed(), \"AA228FinalProject\")\n",
    "    jenv = joinpath(dirname(@__FILE__()), \".\") # this assumes the notebook is in the same dir\n",
    "    # as the Project.toml file, which should be in top level dir of the project. \n",
    "    # Change accordingly if this is not the case.\n",
    "    Pkg.activate(jenv)\n",
    "end\n",
    "#---\n",
    "\n",
    "# import necessary packages\n",
    "using AA228FinalProject\n",
    "using POMDPs\n",
    "using POMDPPolicies\n",
    "using BeliefUpdaters\n",
    "using ParticleFilters\n",
    "using POMDPSimulators\n",
    "using Cairo\n",
    "using Gtk\n",
    "using Random\n",
    "using Printf\n",
    "using JLD\n",
    "using BasicPOMCP"
   ]
  },
  {
   "cell_type": "code",
   "execution_count": 7,
   "metadata": {},
   "outputs": [],
   "source": [
    "sensor = Bumper();\n",
    "num_x_pts = 50 # e.g. 50\n",
    "num_y_pts = 50 # e.g. 50\n",
    "num_th_pts = 20 # e.g. 20\n",
    "sspace = DiscreteRoombaStateSpace(num_x_pts,num_y_pts,num_th_pts);\n",
    "vlist = [1, 2, 3]\n",
    "omlist = [-1, -0.5, 0, 0.5, 1]\n",
    "aspace = vec(collect(RoombaAct(v, om) for v in vlist, om in omlist));"
   ]
  },
  {
   "cell_type": "code",
   "execution_count": 8,
   "metadata": {},
   "outputs": [],
   "source": [
    "config = 3 # 1,2, or 3\n",
    "m = RoombaPOMDP(sensor=sensor, mdp=RoombaMDP(config=config, sspace=sspace, aspace=aspace));"
   ]
  },
  {
   "cell_type": "code",
   "execution_count": 9,
   "metadata": {},
   "outputs": [],
   "source": [
    "num_particles = 5000\n",
    "resampler = BumperResampler(num_particles)\n",
    "spf = SimpleParticleFilter(m, resampler)\n",
    "v_noise_coefficient = 2.0\n",
    "om_noise_coefficient = 0.5\n",
    "belief_updater = RoombaParticleFilter(spf, v_noise_coefficient, om_noise_coefficient);"
   ]
  },
  {
   "cell_type": "code",
   "execution_count": 10,
   "metadata": {},
   "outputs": [],
   "source": [
    "solver = POMCPSolver()\n",
    "POMCP_planner = BasicPOMCP.solve(solver, m);"
   ]
  },
  {
   "cell_type": "code",
   "execution_count": 11,
   "metadata": {},
   "outputs": [
    {
     "ename": "InterruptException",
     "evalue": "InterruptException:",
     "output_type": "error",
     "traceback": [
      "InterruptException:",
      "",
      "Stacktrace:",
      " [1] indexed_iterate(::Tuple{RoombaState,Bool,Float64}, ::Int64, ::Int64) at ./tuple.jl:60",
      " [2] simulate(::RolloutSimulator{MersenneTwister}, ::RoombaPOMDP{Bumper,Bool}, ::RandomPolicy{MersenneTwister,RoombaPOMDP{Bumper,Bool},NothingUpdater}, ::NothingUpdater, ::Nothing, ::RoombaState) at /Users/shengji/.julia/packages/POMDPSimulators/xyfJM/src/rollout.jl:102",
      " [3] rollout at /Users/shengji/.julia/packages/BasicPOMCP/01DOC/src/rollout.jl:81 [inlined]",
      " [4] estimate_value at /Users/shengji/.julia/packages/BasicPOMCP/01DOC/src/rollout.jl:41 [inlined]",
      " [5] simulate(::POMCPPlanner{RoombaPOMDP{Bumper,Bool},BasicPOMCP.SolvedPORollout{RandomPolicy{MersenneTwister,RoombaPOMDP{Bumper,Bool},NothingUpdater},NothingUpdater,MersenneTwister},MersenneTwister}, ::RoombaState, ::BasicPOMCP.POMCPObsNode{RoombaAct,Bool}, ::Int64) at /Users/shengji/.julia/packages/BasicPOMCP/01DOC/src/solver.jl:95",
      " [6] search(::POMCPPlanner{RoombaPOMDP{Bumper,Bool},BasicPOMCP.SolvedPORollout{RandomPolicy{MersenneTwister,RoombaPOMDP{Bumper,Bool},NothingUpdater},NothingUpdater,MersenneTwister},MersenneTwister}, ::ParticleCollection{RoombaState}, ::BasicPOMCP.POMCPTree{RoombaAct,Bool}, ::Dict{Symbol,Any}) at /Users/shengji/.julia/packages/BasicPOMCP/01DOC/src/solver.jl:32",
      " [7] #action_info#4(::Bool, ::Function, ::POMCPPlanner{RoombaPOMDP{Bumper,Bool},BasicPOMCP.SolvedPORollout{RandomPolicy{MersenneTwister,RoombaPOMDP{Bumper,Bool},NothingUpdater},NothingUpdater,MersenneTwister},MersenneTwister}, ::ParticleCollection{RoombaState}) at /Users/shengji/.julia/packages/BasicPOMCP/01DOC/src/solver.jl:6",
      " [8] action_info at /Users/shengji/.julia/packages/BasicPOMCP/01DOC/src/solver.jl:2 [inlined]",
      " [9] iterate(::POMDPSimulators.POMDPSimIterator{(:s, :a, :r, :sp, :t, :i, :ai, :b, :o, :bp, :ui),RoombaPOMDP{Bumper,Bool},POMCPPlanner{RoombaPOMDP{Bumper,Bool},BasicPOMCP.SolvedPORollout{RandomPolicy{MersenneTwister,RoombaPOMDP{Bumper,Bool},NothingUpdater},NothingUpdater,MersenneTwister},MersenneTwister},RoombaParticleFilter,MersenneTwister,ParticleCollection{RoombaState},RoombaState}, ::Tuple{Int64,RoombaState,ParticleCollection{RoombaState}}) at /Users/shengji/.julia/packages/POMDPSimulators/xyfJM/src/stepthrough.jl:102",
      " [10] iterate(::Base.Iterators.Enumerate{POMDPSimulators.POMDPSimIterator{(:s, :a, :r, :sp, :t, :i, :ai, :b, :o, :bp, :ui),RoombaPOMDP{Bumper,Bool},POMCPPlanner{RoombaPOMDP{Bumper,Bool},BasicPOMCP.SolvedPORollout{RandomPolicy{MersenneTwister,RoombaPOMDP{Bumper,Bool},NothingUpdater},NothingUpdater,MersenneTwister},MersenneTwister},RoombaParticleFilter,MersenneTwister,ParticleCollection{RoombaState},RoombaState}}, ::Tuple{Int64,Tuple{Int64,RoombaState,ParticleCollection{RoombaState}}}) at ./iterators.jl:139",
      " [11] top-level scope at In[11]:19"
     ]
    }
   ],
   "source": [
    "# run the simulation\n",
    "c = @GtkCanvas()\n",
    "win = GtkWindow(c, \"Roomba Environment\", 600, 600)\n",
    "for (t, step) in enumerate(stepthrough(m, POMCP_planner, belief_updater, max_steps=1000))\n",
    "    @guarded draw(c) do widget\n",
    "        \n",
    "        # the following lines render the room, the particles, and the roomba\n",
    "        ctx = getgc(c)\n",
    "        set_source_rgb(ctx,1,1,1)\n",
    "        paint(ctx)\n",
    "        render(ctx, m, step)\n",
    "        \n",
    "        # render some information that can help with debugging\n",
    "        # here, we render the time-step, the state, and the observation\n",
    "        move_to(ctx,300,400)\n",
    "        show_text(ctx, @sprintf(\"t=%d, state=%s, o=%.3f\",t,string(step.s),step.o))\n",
    "    end\n",
    "    show(c)\n",
    "    sleep(0.1) # to slow down the simulation\n",
    "end"
   ]
  },
  {
   "cell_type": "code",
   "execution_count": 8,
   "metadata": {},
   "outputs": [],
   "source": [
    "using JLD\n",
    "JLD.save(\"QMDP_Bumper_policy.jld\", \"policy\", POMCP_planner)"
   ]
  },
  {
   "cell_type": "code",
   "execution_count": null,
   "metadata": {},
   "outputs": [],
   "source": []
  }
 ],
 "metadata": {
  "kernelspec": {
   "display_name": "Julia 1.0.2",
   "language": "julia",
   "name": "julia-1.0"
  },
  "language_info": {
   "file_extension": ".jl",
   "mimetype": "application/julia",
   "name": "julia",
   "version": "1.0.2"
  }
 },
 "nbformat": 4,
 "nbformat_minor": 2
}
