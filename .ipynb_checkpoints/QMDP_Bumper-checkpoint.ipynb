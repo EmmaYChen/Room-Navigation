{
 "cells": [
  {
   "cell_type": "code",
   "execution_count": 1,
   "metadata": {},
   "outputs": [
    {
     "name": "stderr",
     "output_type": "stream",
     "text": [
      "\n",
      "(process:75801): Gtk-WARNING **: 01:59:22.274: Locale not supported by C library.\n",
      "\tUsing the fallback 'C' locale.\n"
     ]
    }
   ],
   "source": [
    "# activate project environment\n",
    "# include these lines of code in any future scripts/notebooks\n",
    "#---\n",
    "import Pkg\n",
    "if !haskey(Pkg.installed(), \"AA228FinalProject\")\n",
    "    jenv = joinpath(dirname(@__FILE__()), \".\") # this assumes the notebook is in the same dir\n",
    "    # as the Project.toml file, which should be in top level dir of the project. \n",
    "    # Change accordingly if this is not the case.\n",
    "    Pkg.activate(jenv)\n",
    "end\n",
    "#---\n",
    "\n",
    "# import necessary packages\n",
    "using AA228FinalProject\n",
    "using POMDPs\n",
    "using POMDPPolicies\n",
    "using BeliefUpdaters\n",
    "using ParticleFilters\n",
    "using POMDPSimulators\n",
    "using Cairo\n",
    "using Gtk\n",
    "using Random\n",
    "using Printf\n",
    "using QMDP"
   ]
  },
  {
   "cell_type": "code",
   "execution_count": 2,
   "metadata": {},
   "outputs": [],
   "source": [
    "num_x_pts = 50 # e.g. 50\n",
    "num_y_pts = 50 # e.g. 50\n",
    "num_th_pts = 20 # e.g. 20\n",
    "sspace = DiscreteRoombaStateSpace(num_x_pts,num_y_pts,num_th_pts);"
   ]
  },
  {
   "cell_type": "code",
   "execution_count": 3,
   "metadata": {},
   "outputs": [],
   "source": [
    "vlist = [0, 1, 2, 3]\n",
    "omlist = [-1, -0.5, 0, 0.5, 1]\n",
    "aspace = vec(collect(RoombaAct(v, om) for v in vlist, om in omlist));"
   ]
  },
  {
   "cell_type": "code",
   "execution_count": 4,
   "metadata": {},
   "outputs": [],
   "source": [
    "sensor = Bumper();"
   ]
  },
  {
   "cell_type": "code",
   "execution_count": 5,
   "metadata": {},
   "outputs": [],
   "source": [
    "config = 3 # 1,2, or 3\n",
    "m = RoombaPOMDP(sensor=sensor, mdp=RoombaMDP(config=config, sspace=sspace, aspace=aspace));"
   ]
  },
  {
   "cell_type": "code",
   "execution_count": 6,
   "metadata": {},
   "outputs": [],
   "source": [
    "num_particles = 2000\n",
    "resampler = LidarResampler(num_particles, LowVarianceResampler(num_particles))\n",
    "# for the bumper environment\n",
    "# resampler = BumperResampler(num_particles)\n",
    "\n",
    "spf = SimpleParticleFilter(m, resampler)\n",
    "\n",
    "v_noise_coefficient = 2.0\n",
    "om_noise_coefficient = 0.5\n",
    "\n",
    "belief_updater = RoombaParticleFilter(spf, v_noise_coefficient, om_noise_coefficient);"
   ]
  },
  {
   "cell_type": "code",
   "execution_count": 7,
   "metadata": {},
   "outputs": [
    {
     "ename": "InterruptException",
     "evalue": "InterruptException:",
     "output_type": "error",
     "traceback": [
      "InterruptException:",
      "",
      "Stacktrace:",
      " [1] Type at /Users/shengji/.julia/packages/StaticArrays/WmJnA/src/SVector.jl:18 [inlined]",
      " [2] Type at /Users/shengji/.julia/packages/StaticArrays/WmJnA/src/convert.jl:3 [inlined]",
      " [3] in_rectangle(::AA228FinalProject.Rectangle, ::Array{Float64,1}) at /Users/shengji/Documents/GitHub/Room-Navigation/src/env_room.jl:92",
      " [4] wall_contact(::AA228FinalProject.Rectangle, ::Array{Float64,1}) at /Users/shengji/Documents/GitHub/Room-Navigation/src/env_room.jl:107",
      " [5] wall_contact(::AA228FinalProject.Room, ::Array{Float64,1}) at /Users/shengji/Documents/GitHub/Room-Navigation/src/env_room.jl:251",
      " [6] wall_contact at /Users/shengji/Documents/GitHub/Room-Navigation/src/roomba_env.jl:174 [inlined]",
      " [7] reward(::RoombaPOMDP{DiscreteLidar,Int64}, ::RoombaState, ::RoombaAct, ::RoombaState) at /Users/shengji/Documents/GitHub/Room-Navigation/src/roomba_env.jl:343",
      " [8] #solve#3(::Base.Iterators.Pairs{Union{},Union{},Tuple{},NamedTuple{(),Tuple{}}}, ::Function, ::DiscreteValueIteration.ValueIterationSolver, ::RoombaPOMDP{DiscreteLidar,Int64}) at /Users/shengji/.julia/packages/DiscreteValueIteration/ezxsV/src/vanilla.jl:83",
      " [9] solve at /Users/shengji/.julia/packages/DiscreteValueIteration/ezxsV/src/vanilla.jl:56 [inlined]",
      " [10] macro expansion at ./logging.jl:306 [inlined]",
      " [11] #solve#2(::Base.Iterators.Pairs{Union{},Union{},Tuple{},NamedTuple{(),Tuple{}}}, ::Function, ::QMDPSolver, ::RoombaPOMDP{DiscreteLidar,Int64}) at /Users/shengji/.julia/packages/QMDP/gq4Nj/src/vanilla.jl:37",
      " [12] solve(::QMDPSolver, ::RoombaPOMDP{DiscreteLidar,Int64}) at /Users/shengji/.julia/packages/QMDP/gq4Nj/src/vanilla.jl:36",
      " [13] top-level scope at In[7]:2"
     ]
    }
   ],
   "source": [
    "solver = QMDPSolver(max_iterations=20, tolerance=1e-3)\n",
    "p = solve(solver, m);"
   ]
  },
  {
   "cell_type": "code",
   "execution_count": 8,
   "metadata": {},
   "outputs": [],
   "source": [
    "# run the simulation\n",
    "c = @GtkCanvas()\n",
    "win = GtkWindow(c, \"Roomba Environment\", 600, 600)\n",
    "for (t, step) in enumerate(stepthrough(m, p, belief_updater, max_steps=100))\n",
    "    @guarded draw(c) do widget\n",
    "        \n",
    "        # the following lines render the room, the particles, and the roomba\n",
    "        ctx = getgc(c)\n",
    "        set_source_rgb(ctx,1,1,1)\n",
    "        paint(ctx)\n",
    "        render(ctx, m, step)\n",
    "        \n",
    "        # render some information that can help with debugging\n",
    "        # here, we render the time-step, the state, and the observation\n",
    "        move_to(ctx,300,400)\n",
    "        show_text(ctx, @sprintf(\"t=%d, state=%s, o=%.3f\",t,string(step.s),step.o))\n",
    "    end\n",
    "    show(c)\n",
    "    sleep(0.1) # to slow down the simulation\n",
    "end"
   ]
  },
  {
   "cell_type": "code",
   "execution_count": 9,
   "metadata": {},
   "outputs": [
    {
     "name": "stderr",
     "output_type": "stream",
     "text": [
      "┌ Info: Precompiling JLD [4138dd39-2aa7-5051-a626-17a0bb65d9c8]\n",
      "└ @ Base loading.jl:1192\n",
      "ERROR: LoadError: HDF5 not properly installed. Please run Pkg.build(\"HDF5\")\n",
      "Stacktrace:\n",
      " [1] error(::String) at ./error.jl:33\n",
      " [2] top-level scope at /Users/shengji/.julia/packages/HDF5/ZOkE7/src/HDF5.jl:34\n",
      " [3] include at ./boot.jl:317 [inlined]\n",
      " [4] include_relative(::Module, ::String) at ./loading.jl:1044\n",
      " [5] include(::Module, ::String) at ./sysimg.jl:29\n",
      " [6] top-level scope at none:2\n",
      " [7] eval at ./boot.jl:319 [inlined]\n",
      " [8] eval(::Expr) at ./client.jl:393\n",
      " [9] top-level scope at ./none:3\n",
      "in expression starting at /Users/shengji/.julia/packages/HDF5/ZOkE7/src/HDF5.jl:31\n",
      "ERROR: LoadError: Failed to precompile HDF5 [f67ccb44-e63f-5c2f-98bd-6dc0ccc4ba2f] to /Users/shengji/.julia/compiled/v1.0/HDF5/L7Dga.ji.\n",
      "Stacktrace:\n",
      " [1] error(::String) at ./error.jl:33\n",
      " [2] macro expansion at ./logging.jl:311 [inlined]\n",
      " [3] compilecache(::Base.PkgId, ::String) at ./loading.jl:1190\n",
      " [4] _require(::Base.PkgId) at ./logging.jl:309\n",
      " [5] require(::Base.PkgId) at ./loading.jl:858\n",
      " [6] macro expansion at ./logging.jl:309 [inlined]\n",
      " [7] require(::Module, ::Symbol) at ./loading.jl:840\n",
      " [8] include at ./boot.jl:317 [inlined]\n",
      " [9] include_relative(::Module, ::String) at ./loading.jl:1044\n",
      " [10] include(::Module, ::String) at ./sysimg.jl:29\n",
      " [11] top-level scope at none:2\n",
      " [12] eval at ./boot.jl:319 [inlined]\n",
      " [13] eval(::Expr) at ./client.jl:393\n",
      " [14] top-level scope at ./none:3\n",
      "in expression starting at /Users/shengji/.julia/packages/JLD/1BoSz/src/JLD.jl:4\n"
     ]
    },
    {
     "ename": "ErrorException",
     "evalue": "Failed to precompile JLD [4138dd39-2aa7-5051-a626-17a0bb65d9c8] to /Users/shengji/.julia/compiled/v1.0/JLD/l8ijy.ji.",
     "output_type": "error",
     "traceback": [
      "Failed to precompile JLD [4138dd39-2aa7-5051-a626-17a0bb65d9c8] to /Users/shengji/.julia/compiled/v1.0/JLD/l8ijy.ji.",
      "",
      "Stacktrace:",
      " [1] error(::String) at ./error.jl:33",
      " [2] macro expansion at ./logging.jl:311 [inlined]",
      " [3] compilecache(::Base.PkgId, ::String) at ./loading.jl:1190",
      " [4] macro expansion at ./logging.jl:309 [inlined]",
      " [5] _require(::Base.PkgId) at ./loading.jl:947",
      " [6] require(::Base.PkgId) at ./loading.jl:858",
      " [7] macro expansion at ./logging.jl:309 [inlined]",
      " [8] require(::Module, ::Symbol) at ./loading.jl:840",
      " [9] top-level scope at In[9]:1"
     ]
    }
   ],
   "source": [
    "using JLD\n",
    "save(\"/my_policy.jld\", \"policy\", p)"
   ]
  },
  {
   "cell_type": "code",
   "execution_count": null,
   "metadata": {},
   "outputs": [],
   "source": []
  }
 ],
 "metadata": {
  "kernelspec": {
   "display_name": "Julia 1.0.2",
   "language": "julia",
   "name": "julia-1.0"
  },
  "language_info": {
   "file_extension": ".jl",
   "mimetype": "application/julia",
   "name": "julia",
   "version": "1.0.2"
  }
 },
 "nbformat": 4,
 "nbformat_minor": 2
}
