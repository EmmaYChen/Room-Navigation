{
 "cells": [
  {
   "cell_type": "code",
   "execution_count": 1,
   "metadata": {},
   "outputs": [
    {
     "name": "stderr",
     "output_type": "stream",
     "text": [
      "\n",
      "(process:1382): Gtk-WARNING **: 21:05:05.464: Locale not supported by C library.\n",
      "\tUsing the fallback 'C' locale.\n"
     ]
    }
   ],
   "source": [
    "import Pkg\n",
    "if !haskey(Pkg.installed(), \"AA228FinalProject\")\n",
    "    jenv = joinpath(dirname(@__FILE__()), \".\") # this assumes the notebook is in the same dir\n",
    "    # as the Project.toml file, which should be in top level dir of the project. \n",
    "    # Change accordingly if this is not the case.\n",
    "    Pkg.activate(jenv)\n",
    "end\n",
    "#---\n",
    "\n",
    "# import necessary packages\n",
    "using AA228FinalProject\n",
    "using POMDPs\n",
    "using POMDPPolicies\n",
    "using BeliefUpdaters\n",
    "using ParticleFilters\n",
    "using POMDPSimulators\n",
    "using Cairo\n",
    "using Gtk\n",
    "using Random\n",
    "using Printf\n",
    "using JLD\n",
    "using BasicPOMCP"
   ]
  },
  {
   "cell_type": "code",
   "execution_count": 2,
   "metadata": {},
   "outputs": [],
   "source": [
    "discretize = false;\n",
    "config = 3 # 1,2, or 3;"
   ]
  },
  {
   "cell_type": "code",
   "execution_count": 3,
   "metadata": {},
   "outputs": [],
   "source": [
    "sensor = Bumper()\n",
    "vlist = [0, 0.5, 1, 2]\n",
    "omlist = [-1, -0.5, 0, 0.5, 1]\n",
    "aspace = vec(collect(RoombaAct(v, om) for v in vlist, om in omlist));"
   ]
  },
  {
   "cell_type": "code",
   "execution_count": 4,
   "metadata": {},
   "outputs": [],
   "source": [
    "if discretize\n",
    "    num_x_pts = 50 # e.g. 50\n",
    "    num_y_pts = 50 # e.g. 50\n",
    "    num_th_pts = 20 # e.g. 20\n",
    "    sspace = DiscreteRoombaStateSpace(num_x_pts,num_y_pts,num_th_pts);\n",
    "    m = RoombaPOMDP(sensor=sensor, mdp=RoombaMDP(config=config, sspace=sspace, aspace=aspace));\n",
    "else\n",
    "    m = RoombaPOMDP(sensor=sensor, mdp=RoombaMDP(config=config, aspace=aspace));\n",
    "end;"
   ]
  },
  {
   "cell_type": "code",
   "execution_count": 5,
   "metadata": {},
   "outputs": [],
   "source": [
    "num_particles = 2000\n",
    "resampler = BumperResampler(num_particles)\n",
    "spf = SimpleParticleFilter(m, resampler)\n",
    "v_noise_coefficient = 2.0\n",
    "om_noise_coefficient = 0.5\n",
    "belief_updater = RoombaParticleFilter(spf, v_noise_coefficient, om_noise_coefficient);"
   ]
  },
  {
   "cell_type": "code",
   "execution_count": 6,
   "metadata": {},
   "outputs": [],
   "source": [
    "solver = POMCPSolver()\n",
    "POMCP_planner = BasicPOMCP.solve(solver, m);"
   ]
  },
  {
   "cell_type": "code",
   "execution_count": 7,
   "metadata": {},
   "outputs": [
    {
     "ename": "InterruptException",
     "evalue": "InterruptException:",
     "output_type": "error",
     "traceback": [
      "InterruptException:",
      "",
      "Stacktrace:",
      " [1] Type at ./boot.jl:394 [inlined]",
      " [2] Type at ./boot.jl:403 [inlined]",
      " [3] Type at ./boot.jl:411 [inlined]",
      " [4] similar at ./abstractarray.jl:618 [inlined]",
      " [5] similar at ./abstractarray.jl:617 [inlined]",
      " [6] vect(::Float64, ::Vararg{Float64,N} where N) at ./array.jl:130",
      " [7] transition(::RoombaPOMDP{Bumper,Bool}, ::RoombaState, ::RoombaAct) at /Users/shengji/Documents/GitHub/Room-Navigation/src/roomba_env.jl:255",
      " [8] macro expansion at /Users/shengji/.julia/packages/POMDPs/JiYXY/src/generative_impl.jl:19 [inlined]",
      " [9] generate_s at /Users/shengji/.julia/packages/POMDPs/JiYXY/src/generative_impl.jl:18 [inlined]",
      " [10] macro expansion at /Users/shengji/.julia/packages/POMDPs/JiYXY/src/generative_impl.jl:128 [inlined]",
      " [11] generate_so at /Users/shengji/.julia/packages/POMDPs/JiYXY/src/generative_impl.jl:127 [inlined]",
      " [12] macro expansion at /Users/shengji/.julia/packages/POMDPs/JiYXY/src/generative_impl.jl:168 [inlined]",
      " [13] generate_sor at /Users/shengji/.julia/packages/POMDPs/JiYXY/src/generative_impl.jl:167 [inlined]",
      " [14] simulate(::POMCPPlanner{RoombaPOMDP{Bumper,Bool},BasicPOMCP.SolvedPORollout{RandomPolicy{MersenneTwister,RoombaPOMDP{Bumper,Bool},NothingUpdater},NothingUpdater,MersenneTwister},MersenneTwister}, ::RoombaState, ::BasicPOMCP.POMCPObsNode{RoombaAct,Bool}, ::Int64) at /Users/shengji/.julia/packages/BasicPOMCP/01DOC/src/solver.jl:90",
      " [15] simulate(::POMCPPlanner{RoombaPOMDP{Bumper,Bool},BasicPOMCP.SolvedPORollout{RandomPolicy{MersenneTwister,RoombaPOMDP{Bumper,Bool},NothingUpdater},NothingUpdater,MersenneTwister},MersenneTwister}, ::RoombaState, ::BasicPOMCP.POMCPObsNode{RoombaAct,Bool}, ::Int64) at /Users/shengji/.julia/packages/BasicPOMCP/01DOC/src/solver.jl:102",
      " [16] search(::POMCPPlanner{RoombaPOMDP{Bumper,Bool},BasicPOMCP.SolvedPORollout{RandomPolicy{MersenneTwister,RoombaPOMDP{Bumper,Bool},NothingUpdater},NothingUpdater,MersenneTwister},MersenneTwister}, ::ParticleCollection{RoombaState}, ::BasicPOMCP.POMCPTree{RoombaAct,Bool}, ::Dict{Symbol,Any}) at /Users/shengji/.julia/packages/BasicPOMCP/01DOC/src/solver.jl:32",
      " [17] #action_info#4(::Bool, ::Function, ::POMCPPlanner{RoombaPOMDP{Bumper,Bool},BasicPOMCP.SolvedPORollout{RandomPolicy{MersenneTwister,RoombaPOMDP{Bumper,Bool},NothingUpdater},NothingUpdater,MersenneTwister},MersenneTwister}, ::ParticleCollection{RoombaState}) at /Users/shengji/.julia/packages/BasicPOMCP/01DOC/src/solver.jl:6",
      " [18] action_info at /Users/shengji/.julia/packages/BasicPOMCP/01DOC/src/solver.jl:2 [inlined]",
      " [19] iterate(::POMDPSimulators.POMDPSimIterator{(:s, :a, :r, :sp, :t, :i, :ai, :b, :o, :bp, :ui),RoombaPOMDP{Bumper,Bool},POMCPPlanner{RoombaPOMDP{Bumper,Bool},BasicPOMCP.SolvedPORollout{RandomPolicy{MersenneTwister,RoombaPOMDP{Bumper,Bool},NothingUpdater},NothingUpdater,MersenneTwister},MersenneTwister},RoombaParticleFilter,MersenneTwister,ParticleCollection{RoombaState},RoombaState}, ::Tuple{Int64,RoombaState,ParticleCollection{RoombaState}}) at /Users/shengji/.julia/packages/POMDPSimulators/xyfJM/src/stepthrough.jl:102",
      " [20] iterate(::Base.Iterators.Enumerate{POMDPSimulators.POMDPSimIterator{(:s, :a, :r, :sp, :t, :i, :ai, :b, :o, :bp, :ui),RoombaPOMDP{Bumper,Bool},POMCPPlanner{RoombaPOMDP{Bumper,Bool},BasicPOMCP.SolvedPORollout{RandomPolicy{MersenneTwister,RoombaPOMDP{Bumper,Bool},NothingUpdater},NothingUpdater,MersenneTwister},MersenneTwister},RoombaParticleFilter,MersenneTwister,ParticleCollection{RoombaState},RoombaState}}, ::Tuple{Int64,Tuple{Int64,RoombaState,ParticleCollection{RoombaState}}}) at ./iterators.jl:139",
      " [21] top-level scope at In[7]:19"
     ]
    }
   ],
   "source": [
    "# run the simulation\n",
    "c = @GtkCanvas()\n",
    "win = GtkWindow(c, \"Roomba Environment\", 600, 600)\n",
    "for (t, step) in enumerate(stepthrough(m, POMCP_planner, belief_updater, max_steps=1000))\n",
    "    @guarded draw(c) do widget\n",
    "        \n",
    "        # the following lines render the room, the particles, and the roomba\n",
    "        ctx = getgc(c)\n",
    "        set_source_rgb(ctx,1,1,1)\n",
    "        paint(ctx)\n",
    "        render(ctx, m, step)\n",
    "        \n",
    "        # render some information that can help with debugging\n",
    "        # here, we render the time-step, the state, and the observation\n",
    "        move_to(ctx,300,400)\n",
    "        show_text(ctx, @sprintf(\"t=%d, state=%s, o=%.3f\",t,string(step.s),step.o))\n",
    "    end\n",
    "    show(c)\n",
    "    sleep(0.1) # to slow down the simulation\n",
    "end"
   ]
  },
  {
   "cell_type": "code",
   "execution_count": 8,
   "metadata": {},
   "outputs": [],
   "source": [
    "using JLD\n",
    "JLD.save(\"QMDP_Bumper_policy.jld\", \"policy\", POMCP_planner)"
   ]
  },
  {
   "cell_type": "code",
   "execution_count": null,
   "metadata": {},
   "outputs": [],
   "source": []
  }
 ],
 "metadata": {
  "kernelspec": {
   "display_name": "Julia 1.0.2",
   "language": "julia",
   "name": "julia-1.0"
  },
  "language_info": {
   "file_extension": ".jl",
   "mimetype": "application/julia",
   "name": "julia",
   "version": "1.0.2"
  }
 },
 "nbformat": 4,
 "nbformat_minor": 2
}
