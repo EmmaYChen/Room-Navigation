{
 "cells": [
  {
   "cell_type": "code",
   "execution_count": 2,
   "metadata": {},
   "outputs": [
    {
     "name": "stderr",
     "output_type": "stream",
     "text": [
      "┌ Info: Loading Cairo backend into Compose.jl\n",
      "└ @ Compose /Users/shengji/.julia/packages/Compose/BYWXX/src/Compose.jl:161\n",
      "┌ Warning: Package Compose does not have Cairo in its dependencies:\n",
      "│ - If you have Compose checked out for development and have\n",
      "│   added Cairo as a dependency but haven't updated your primary\n",
      "│   environment's manifest file, try `Pkg.resolve()`.\n",
      "│ - Otherwise you may need to report an issue with Compose\n",
      "│ Loading Cairo into Compose from project dependency, future warnings for Compose are suppressed.\n",
      "└ @ nothing nothing:840\n"
     ]
    }
   ],
   "source": [
    "import Pkg\n",
    "if !haskey(Pkg.installed(), \"AA228FinalProject\")\n",
    "    jenv = joinpath(dirname(@__FILE__()), \".\") # this assumes the notebook is in the same dir\n",
    "    # as the Project.toml file, which should be in top level dir of the project. \n",
    "    # Change accordingly if this is not the case.\n",
    "    Pkg.activate(jenv)\n",
    "end\n",
    "#---\n",
    "\n",
    "# import necessary packages\n",
    "using AA228FinalProject\n",
    "using POMDPs\n",
    "using POMDPPolicies\n",
    "using BeliefUpdaters\n",
    "using ParticleFilters\n",
    "using POMDPSimulators\n",
    "using Cairo\n",
    "using Gtk\n",
    "using Random\n",
    "using Printf\n",
    "using JLD\n",
    "using POMDPModels, BasicPOMCP"
   ]
  },
  {
   "cell_type": "code",
   "execution_count": 3,
   "metadata": {},
   "outputs": [],
   "source": [
    "sensor = Bumper();\n",
    "num_x_pts = 50 # e.g. 50\n",
    "num_y_pts = 50 # e.g. 50\n",
    "num_th_pts = 20 # e.g. 20\n",
    "sspace = DiscreteRoombaStateSpace(num_x_pts,num_y_pts,num_th_pts);\n",
    "vlist = [0, 1, 2, 3]\n",
    "omlist = [-1, -0.5, 0, 0.5, 1]\n",
    "aspace = vec(collect(RoombaAct(v, om) for v in vlist, om in omlist));"
   ]
  },
  {
   "cell_type": "code",
   "execution_count": 4,
   "metadata": {},
   "outputs": [],
   "source": [
    "config = 3 # 1,2, or 3\n",
    "m = RoombaPOMDP(sensor=sensor, mdp=RoombaMDP(config=config, sspace=sspace, aspace=aspace));"
   ]
  },
  {
   "cell_type": "code",
   "execution_count": 5,
   "metadata": {},
   "outputs": [],
   "source": [
    "num_particles = 2000\n",
    "resampler = BumperResampler(num_particles)\n",
    "spf = SimpleParticleFilter(m, resampler)\n",
    "v_noise_coefficient = 2.0\n",
    "om_noise_coefficient = 0.5\n",
    "belief_updater = RoombaParticleFilter(spf, v_noise_coefficient, om_noise_coefficient);"
   ]
  },
  {
   "cell_type": "code",
   "execution_count": 6,
   "metadata": {},
   "outputs": [],
   "source": [
    "solver = POMCPSolver()\n",
    "POMCP_planner = BasicPOMCP.solve(solver, m);"
   ]
  },
  {
   "cell_type": "code",
   "execution_count": 11,
   "metadata": {},
   "outputs": [
    {
     "ename": "InterruptException",
     "evalue": "InterruptException:",
     "output_type": "error",
     "traceback": [
      "InterruptException:",
      "",
      "Stacktrace:",
      " [1] materialize at ./boot.jl:394 [inlined]",
      " [2] broadcast(::typeof(-), ::Array{Float64,1}, ::Array{Float64,1}) at ./broadcast.jl:702",
      " [3] - at ./arraymath.jl:39 [inlined]",
      " [4] furthest_step(::AA228FinalProject.LineSegment, ::StaticArrays.SArray{Tuple{2},Float64,1,2}, ::StaticArrays.SArray{Tuple{2},Float64,1,2}, ::Float64) at /Users/shengji/Documents/GitHub/Room-Navigation/src/line_segment_utils.jl:176",
      " [5] (::getfield(AA228FinalProject, Symbol(\"##7#8\")){StaticArrays.SArray{Tuple{2},Float64,1,2},StaticArrays.SArray{Tuple{2},Float64,1,2}})(::AA228FinalProject.LineSegment) at ./none:0",
      " [6] iterate at ./generator.jl:47 [inlined]",
      " [7] mapfoldl_impl at ./reduce.jl:53 [inlined]",
      " [8] #mapfoldl#170 at ./reduce.jl:70 [inlined]",
      " [9] mapfoldl at ./reduce.jl:70 [inlined]",
      " [10] #mapreduce#174 at ./reduce.jl:203 [inlined]",
      " [11] mapreduce at ./reduce.jl:203 [inlined]",
      " [12] minimum at ./reduce.jl:501 [inlined]",
      " [13] furthest_step at /Users/shengji/Documents/GitHub/Room-Navigation/src/env_room.jl:146 [inlined]",
      " [14] #17 at ./none:0 [inlined]",
      " [15] iterate at ./generator.jl:47 [inlined]",
      " [16] mapfoldl_impl(::typeof(identity), ::typeof(min), ::NamedTuple{(:init,),Tuple{Float64}}, ::Base.Generator{Array{AA228FinalProject.Rectangle,1},getfield(AA228FinalProject, Symbol(\"##17#18\")){StaticArrays.SArray{Tuple{2},Float64,1,2},StaticArrays.SArray{Tuple{2},Float64,1,2}}}, ::Int64) at ./reduce.jl:45",
      " [17] mapfoldl_impl(::Function, ::Function, ::NamedTuple{(),Tuple{}}, ::Base.Generator{Array{AA228FinalProject.Rectangle,1},getfield(AA228FinalProject, Symbol(\"##17#18\")){StaticArrays.SArray{Tuple{2},Float64,1,2},StaticArrays.SArray{Tuple{2},Float64,1,2}}}) at ./reduce.jl:59",
      " [18] #mapfoldl#170 at ./reduce.jl:70 [inlined]",
      " [19] mapfoldl(::Function, ::Function, ::Base.Generator{Array{AA228FinalProject.Rectangle,1},getfield(AA228FinalProject, Symbol(\"##17#18\")){StaticArrays.SArray{Tuple{2},Float64,1,2},StaticArrays.SArray{Tuple{2},Float64,1,2}}}) at ./reduce.jl:70",
      " [20] #mapreduce#174 at ./reduce.jl:203 [inlined]",
      " [21] mapreduce at ./reduce.jl:203 [inlined]",
      " [22] minimum at ./reduce.jl:501 [inlined]",
      " [23] legal_translate(::AA228FinalProject.Room, ::StaticArrays.SArray{Tuple{2},Float64,1,2}, ::StaticArrays.SArray{Tuple{2},Float64,1,2}, ::Float64) at /Users/shengji/Documents/GitHub/Room-Navigation/src/env_room.jl:273",
      " [24] transition(::RoombaPOMDP{Bumper,Bool}, ::RoombaState, ::RoombaAct) at /Users/shengji/Documents/GitHub/Room-Navigation/src/roomba_env.jl:240",
      " [25] macro expansion at /Users/shengji/.julia/packages/POMDPs/JiYXY/src/generative_impl.jl:19 [inlined]",
      " [26] generate_s at /Users/shengji/.julia/packages/POMDPs/JiYXY/src/generative_impl.jl:18 [inlined]",
      " [27] macro expansion at /Users/shengji/.julia/packages/POMDPs/JiYXY/src/generative_impl.jl:128 [inlined]",
      " [28] generate_so at /Users/shengji/.julia/packages/POMDPs/JiYXY/src/generative_impl.jl:127 [inlined]",
      " [29] macro expansion at /Users/shengji/.julia/packages/POMDPs/JiYXY/src/generative_impl.jl:168 [inlined]",
      " [30] generate_sor(::RoombaPOMDP{Bumper,Bool}, ::RoombaState, ::RoombaAct, ::MersenneTwister) at /Users/shengji/.julia/packages/POMDPs/JiYXY/src/generative_impl.jl:167",
      " [31] simulate(::RolloutSimulator{MersenneTwister}, ::RoombaPOMDP{Bumper,Bool}, ::RandomPolicy{MersenneTwister,RoombaPOMDP{Bumper,Bool},NothingUpdater}, ::NothingUpdater, ::Nothing, ::RoombaState) at /Users/shengji/.julia/packages/POMDPSimulators/xyfJM/src/rollout.jl:102",
      " [32] rollout at /Users/shengji/.julia/packages/BasicPOMCP/01DOC/src/rollout.jl:81 [inlined]",
      " [33] estimate_value at /Users/shengji/.julia/packages/BasicPOMCP/01DOC/src/rollout.jl:41 [inlined]",
      " [34] simulate(::POMCPPlanner{RoombaPOMDP{Bumper,Bool},BasicPOMCP.SolvedPORollout{RandomPolicy{MersenneTwister,RoombaPOMDP{Bumper,Bool},NothingUpdater},NothingUpdater,MersenneTwister},MersenneTwister}, ::RoombaState, ::BasicPOMCP.POMCPObsNode{RoombaAct,Bool}, ::Int64) at /Users/shengji/.julia/packages/BasicPOMCP/01DOC/src/solver.jl:95",
      " [35] simulate(::POMCPPlanner{RoombaPOMDP{Bumper,Bool},BasicPOMCP.SolvedPORollout{RandomPolicy{MersenneTwister,RoombaPOMDP{Bumper,Bool},NothingUpdater},NothingUpdater,MersenneTwister},MersenneTwister}, ::RoombaState, ::BasicPOMCP.POMCPObsNode{RoombaAct,Bool}, ::Int64) at /Users/shengji/.julia/packages/BasicPOMCP/01DOC/src/solver.jl:102 (repeats 2 times)",
      " [36] search(::POMCPPlanner{RoombaPOMDP{Bumper,Bool},BasicPOMCP.SolvedPORollout{RandomPolicy{MersenneTwister,RoombaPOMDP{Bumper,Bool},NothingUpdater},NothingUpdater,MersenneTwister},MersenneTwister}, ::ParticleCollection{RoombaState}, ::BasicPOMCP.POMCPTree{RoombaAct,Bool}, ::Dict{Symbol,Any}) at /Users/shengji/.julia/packages/BasicPOMCP/01DOC/src/solver.jl:32",
      " [37] #action_info#4(::Bool, ::Function, ::POMCPPlanner{RoombaPOMDP{Bumper,Bool},BasicPOMCP.SolvedPORollout{RandomPolicy{MersenneTwister,RoombaPOMDP{Bumper,Bool},NothingUpdater},NothingUpdater,MersenneTwister},MersenneTwister}, ::ParticleCollection{RoombaState}) at /Users/shengji/.julia/packages/BasicPOMCP/01DOC/src/solver.jl:6",
      " [38] action_info at /Users/shengji/.julia/packages/BasicPOMCP/01DOC/src/solver.jl:2 [inlined]",
      " [39] iterate(::POMDPSimulators.POMDPSimIterator{(:s, :a, :r, :sp, :t, :i, :ai, :b, :o, :bp, :ui),RoombaPOMDP{Bumper,Bool},POMCPPlanner{RoombaPOMDP{Bumper,Bool},BasicPOMCP.SolvedPORollout{RandomPolicy{MersenneTwister,RoombaPOMDP{Bumper,Bool},NothingUpdater},NothingUpdater,MersenneTwister},MersenneTwister},RoombaParticleFilter,MersenneTwister,ParticleCollection{RoombaState},RoombaState}, ::Tuple{Int64,RoombaState,ParticleCollection{RoombaState}}) at /Users/shengji/.julia/packages/POMDPSimulators/xyfJM/src/stepthrough.jl:102",
      " [40] iterate(::Base.Iterators.Enumerate{POMDPSimulators.POMDPSimIterator{(:s, :a, :r, :sp, :t, :i, :ai, :b, :o, :bp, :ui),RoombaPOMDP{Bumper,Bool},POMCPPlanner{RoombaPOMDP{Bumper,Bool},BasicPOMCP.SolvedPORollout{RandomPolicy{MersenneTwister,RoombaPOMDP{Bumper,Bool},NothingUpdater},NothingUpdater,MersenneTwister},MersenneTwister},RoombaParticleFilter,MersenneTwister,ParticleCollection{RoombaState},RoombaState}}, ::Tuple{Int64,Tuple{Int64,RoombaState,ParticleCollection{RoombaState}}}) at ./iterators.jl:139",
      " [41] top-level scope at In[11]:19"
     ]
    }
   ],
   "source": [
    "# run the simulation\n",
    "c = @GtkCanvas()\n",
    "win = GtkWindow(c, \"Roomba Environment\", 600, 600)\n",
    "for (t, step) in enumerate(stepthrough(m, POMCP_planner, belief_updater, max_steps=1000))\n",
    "    @guarded draw(c) do widget\n",
    "        \n",
    "        # the following lines render the room, the particles, and the roomba\n",
    "        ctx = getgc(c)\n",
    "        set_source_rgb(ctx,1,1,1)\n",
    "        paint(ctx)\n",
    "        render(ctx, m, step)\n",
    "        \n",
    "        # render some information that can help with debugging\n",
    "        # here, we render the time-step, the state, and the observation\n",
    "        move_to(ctx,300,400)\n",
    "        show_text(ctx, @sprintf(\"t=%d, state=%s, o=%.3f\",t,string(step.s),step.o))\n",
    "    end\n",
    "    show(c)\n",
    "    sleep(0.2) # to slow down the simulation\n",
    "end"
   ]
  },
  {
   "cell_type": "code",
   "execution_count": 8,
   "metadata": {},
   "outputs": [],
   "source": [
    "using JLD\n",
    "JLD.save(\"QMDP_Bumper_policy.jld\", \"policy\", POMCP_planner)"
   ]
  },
  {
   "cell_type": "code",
   "execution_count": null,
   "metadata": {},
   "outputs": [],
   "source": []
  }
 ],
 "metadata": {
  "kernelspec": {
   "display_name": "Julia 1.0.2",
   "language": "julia",
   "name": "julia-1.0"
  },
  "language_info": {
   "file_extension": ".jl",
   "mimetype": "application/julia",
   "name": "julia",
   "version": "1.0.2"
  }
 },
 "nbformat": 4,
 "nbformat_minor": 2
}
