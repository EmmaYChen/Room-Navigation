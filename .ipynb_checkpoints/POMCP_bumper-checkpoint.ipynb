{
 "cells": [
  {
   "cell_type": "code",
   "execution_count": 1,
   "metadata": {},
   "outputs": [
    {
     "name": "stderr",
     "output_type": "stream",
     "text": [
      "┌ Info: Recompiling stale cache file /Users/shengji/.julia/compiled/v1.0/AA228FinalProject/uFJfC.ji for AA228FinalProject [fe2df5ea-4d44-4e5a-a895-9dbc87b19b37]\n",
      "└ @ Base loading.jl:1190\n",
      "\n",
      "(process:4745): Gtk-WARNING **: 23:17:23.379: Locale not supported by C library.\n",
      "\tUsing the fallback 'C' locale.\n"
     ]
    }
   ],
   "source": [
    "import Pkg\n",
    "if !haskey(Pkg.installed(), \"AA228FinalProject\")\n",
    "    jenv = joinpath(dirname(@__FILE__()), \".\") # this assumes the notebook is in the same dir\n",
    "    # as the Project.toml file, which should be in top level dir of the project. \n",
    "    # Change accordingly if this is not the case.\n",
    "    Pkg.activate(jenv)\n",
    "end\n",
    "#---\n",
    "\n",
    "# import necessary packages\n",
    "using AA228FinalProject\n",
    "using POMDPs\n",
    "using POMDPPolicies\n",
    "using BeliefUpdaters\n",
    "using ParticleFilters\n",
    "using POMDPSimulators\n",
    "using Cairo\n",
    "using Gtk\n",
    "using Random\n",
    "using Printf\n",
    "using JLD\n",
    "using BasicPOMCP"
   ]
  },
  {
   "cell_type": "code",
   "execution_count": 2,
   "metadata": {},
   "outputs": [],
   "source": [
    "discretize = false;\n",
    "config = 3 # 1,2, or 3;"
   ]
  },
  {
   "cell_type": "code",
   "execution_count": 3,
   "metadata": {},
   "outputs": [],
   "source": [
    "sensor = Bumper()\n",
    "# cut_points = [1, 2, 3, 5, 10, 20, 50]\n",
    "# sensor = DiscreteLidar(cut_points);\n",
    "vlist = [0, 0.5, 1, 2, 5]\n",
    "omlist = [-0.5, -0.25, 0, 0.25, 0.5]\n",
    "aspace = vec(collect(RoombaAct(v, om) for v in vlist, om in omlist));"
   ]
  },
  {
   "cell_type": "code",
   "execution_count": 18,
   "metadata": {},
   "outputs": [],
   "source": [
    "if discretize\n",
    "    num_x_pts = 30 # e.g. 50\n",
    "    num_y_pts = 30 # e.g. 50\n",
    "    num_th_pts = 20 # e.g. 20\n",
    "    sspace = DiscreteRoombaStateSpace(num_x_pts,num_y_pts,num_th_pts);\n",
    "    m = RoombaPOMDP(sensor=sensor, mdp=RoombaMDP(config=config, sspace=sspace, aspace=aspace));\n",
    "else\n",
    "    mdp=RoombaMDP(config=config, aspace=aspace, stairs_penalty=-1000.0, goal_reward=1000.0, time_pen=-0.001, contact_pen=-1.0)\n",
    "    m = RoombaPOMDP(sensor=sensor, mdp=mdp);\n",
    "end;"
   ]
  },
  {
   "cell_type": "code",
   "execution_count": 19,
   "metadata": {},
   "outputs": [],
   "source": [
    "num_particles = 5000\n",
    "resampler = BumperResampler(num_particles)\n",
    "# resampler = LidarResampler(num_particles, LowVarianceResampler(num_particles))\n",
    "spf = SimpleParticleFilter(m, resampler)\n",
    "v_noise_coefficient = 2.0\n",
    "om_noise_coefficient = 0.5\n",
    "belief_updater = RoombaParticleFilter(spf, v_noise_coefficient, om_noise_coefficient);"
   ]
  },
  {
   "cell_type": "code",
   "execution_count": 20,
   "metadata": {},
   "outputs": [],
   "source": [
    "solver = POMCPSolver(max_depth=5, c=1.0, tree_queries=3000)\n",
    "POMCP_planner = BasicPOMCP.solve(solver, m);"
   ]
  },
  {
   "cell_type": "code",
   "execution_count": 21,
   "metadata": {},
   "outputs": [],
   "source": [
    "# is = RoombaState(-20., -15., 0., 0.)\n",
    "# dist = initialstate_distribution(m)\n",
    "# b0 = initialize_belief(belief_updater, dist)\n",
    "Random.seed!(70)\n",
    "# run the simulation\n",
    "c = @GtkCanvas()\n",
    "win = GtkWindow(c, \"Roomba Environment\", 600, 600)\n",
    "# sleep(10)\n",
    "# for (t, step) in enumerate(stepthrough(m, POMCP_planner, belief_updater, b0, is, max_steps=300))\n",
    "for (t, step) in enumerate(stepthrough(m, POMCP_planner, belief_updater, max_steps=1000))\n",
    "    @guarded draw(c) do widget\n",
    "        \n",
    "        # the following lines render the room, the particles, and the roomba\n",
    "        ctx = getgc(c)\n",
    "        set_source_rgb(ctx,1,1,1)\n",
    "        paint(ctx)\n",
    "        render(ctx, m, step)\n",
    "        \n",
    "        # render some information that can help with debugging\n",
    "        # here, we render the time-step, the state, and the observation\n",
    "        move_to(ctx,300,400)\n",
    "        show_text(ctx, @sprintf(\"t=%d, state=%s, o=%.3f\",t,string(step.s),step.o))\n",
    "    end\n",
    "    show(c)\n",
    "    sleep(0.1) # to slow down the simulation\n",
    "end"
   ]
  },
  {
   "cell_type": "code",
   "execution_count": 8,
   "metadata": {},
   "outputs": [
    {
     "data": {
      "text/plain": [
       "AA228FinalProject.Room(AA228FinalProject.Rectangle[Rectangle([-25.0 -20.0; -25.0 -5.0; -15.0 -5.0; -15.0 -20.0], Bool[true, false, true, true], AA228FinalProject.LineSegment[LineSegment([-25.0, -20.0], [-25.0, -5.0], false, false), LineSegment([-15.0, -5.0], [-15.0, -20.0], false, false), LineSegment([-25.0, -20.0], [-15.0, -20.0], false, false)], 9.0, 14.5, [-20.0, -12.5], 130.5, -24.5, -15.5, -19.5, -5.0), Rectangle([-25.0 -5.0; -25.0 5.0; -15.0 5.0; -15.0 -5.0], Bool[true, true, false, false], AA228FinalProject.LineSegment[LineSegment([-25.0, -5.0], [-25.0, 5.0], false, true), LineSegment([-25.0, 5.0], [-15.0, 5.0], false, false)], 9.5, 9.5, [-20.0, 0.0], 90.25, -24.5, -15.0, -5.0, 4.5), Rectangle([-15.0 -5.0; -15.0 5.0; 10.0 5.0; 10.0 -5.0], Bool[false, true, false, true], AA228FinalProject.LineSegment[LineSegment([-15.0, 5.0], [10.0, 5.0], false, false), LineSegment([-15.0, -5.0], [10.0, -5.0], false, false)], 25.0, 9.0, [-2.5, 0.0], 225.0, -15.0, 10.0, -4.5, 4.5), Rectangle([10.0 -5.0; 10.0 5.0; 15.0 5.0; 15.0 -5.0], Bool[false, true, true, true], AA228FinalProject.LineSegment[LineSegment([10.0, 5.0], [15.0, 5.0], false, false), LineSegment([15.0, 5.0], [15.0, -5.0], true, false), LineSegment([10.0, -5.0], [15.0, -5.0], false, false)], 4.5, 9.0, [12.5, 0.0], 40.5, 10.0, 14.5, -4.5, 4.5)], [130.5, 90.25, 225.0, 40.5], 4, 3, 2, 1)"
      ]
     },
     "execution_count": 8,
     "metadata": {},
     "output_type": "execute_result"
    }
   ],
   "source": [
    "m.mdp.room"
   ]
  },
  {
   "cell_type": "code",
   "execution_count": null,
   "metadata": {},
   "outputs": [],
   "source": []
  }
 ],
 "metadata": {
  "kernelspec": {
   "display_name": "Julia 1.0.2",
   "language": "julia",
   "name": "julia-1.0"
  },
  "language_info": {
   "file_extension": ".jl",
   "mimetype": "application/julia",
   "name": "julia",
   "version": "1.0.2"
  }
 },
 "nbformat": 4,
 "nbformat_minor": 2
}
