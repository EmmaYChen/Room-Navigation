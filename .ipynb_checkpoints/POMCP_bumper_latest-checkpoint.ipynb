{
 "cells": [
  {
   "cell_type": "code",
   "execution_count": 2,
   "metadata": {},
   "outputs": [
    {
     "name": "stderr",
     "output_type": "stream",
     "text": [
      "\n",
      "(process:9229): Gtk-WARNING **: 18:26:18.682: Locale not supported by C library.\n",
      "\tUsing the fallback 'C' locale.\n"
     ]
    }
   ],
   "source": [
    "import Pkg\n",
    "if !haskey(Pkg.installed(), \"AA228FinalProject\")\n",
    "    jenv = joinpath(dirname(@__FILE__()), \".\") # this assumes the notebook is in the same dir\n",
    "    # as the Project.toml file, which should be in top level dir of the project. \n",
    "    # Change accordingly if this is not the case.\n",
    "    Pkg.activate(jenv)\n",
    "end\n",
    "#---\n",
    "\n",
    "# import necessary packages\n",
    "using AA228FinalProject\n",
    "using POMDPs\n",
    "using POMDPPolicies\n",
    "using BeliefUpdaters\n",
    "using ParticleFilters\n",
    "using POMDPSimulators\n",
    "using Cairo\n",
    "using Gtk\n",
    "using Random\n",
    "using Printf\n",
    "using BasicPOMCP"
   ]
  },
  {
   "cell_type": "code",
   "execution_count": 3,
   "metadata": {},
   "outputs": [],
   "source": [
    "discretize = false;\n",
    "heuristic = true;\n",
    "config = 3 # 1,2, or 3;"
   ]
  },
  {
   "cell_type": "code",
   "execution_count": 4,
   "metadata": {},
   "outputs": [],
   "source": [
    "sensor = Bumper()\n",
    "vlist = [0.5, 1, 2, 10]\n",
    "omlist = [-1, -0.5, -0.1, 0, 0.1, 0.5, 1]\n",
    "aspace = vec(collect(RoombaAct(v, om) for v in vlist, om in omlist));"
   ]
  },
  {
   "cell_type": "code",
   "execution_count": 12,
   "metadata": {},
   "outputs": [],
   "source": [
    "if discretize\n",
    "    num_x_pts = 50 # e.g. 50\n",
    "    num_y_pts = 50 # e.g. 50\n",
    "    num_th_pts = 20 # e.g. 20\n",
    "    sspace = DiscreteRoombaStateSpace(num_x_pts,num_y_pts,num_th_pts);\n",
    "    m = RoombaPOMDP(sensor=sensor, mdp=RoombaMDP(config=config, sspace=sspace, aspace=aspace));\n",
    "else\n",
    "    mdp=RoombaMDP(config=config, aspace=aspace, stairs_penalty=-13.0, time_pen=-0.001, contact_pen=50.0)\n",
    "    m = RoombaPOMDP(sensor=sensor, mdp=mdp);\n",
    "end;"
   ]
  },
  {
   "cell_type": "code",
   "execution_count": 13,
   "metadata": {},
   "outputs": [],
   "source": [
    "num_particles = 5000\n",
    "resampler = BumperResampler(num_particles)\n",
    "spf = SimpleParticleFilter(m, resampler)\n",
    "v_noise_coefficient = 2.0\n",
    "om_noise_coefficient = 0.5\n",
    "belief_updater = RoombaParticleFilter(spf, v_noise_coefficient, om_noise_coefficient);"
   ]
  },
  {
   "cell_type": "code",
   "execution_count": 14,
   "metadata": {},
   "outputs": [],
   "source": [
    "if heuristic\n",
    "    struct MyHeuristic <: Policy    end\n",
    "    goal_xy = get_goal_xy(m)\n",
    "\n",
    "    # define the heuristic policy as follows\n",
    "    function POMDPs.action(p::MyHeuristic, s::RoombaState) \n",
    "        goal_x, goal_y = goal_xy\n",
    "        x,y,th = s[1:3]\n",
    "        ang_to_goal = atan(goal_y - y, goal_x - x)\n",
    "        del_angle = wrap_to_pi(ang_to_goal - th)\n",
    "\n",
    "        # apply proportional control to compute the turn-rate\n",
    "        Kprop = 1.0\n",
    "        om = Kprop * del_angle\n",
    "\n",
    "        # always travel at some fixed velocity\n",
    "        v = 5.0\n",
    "\n",
    "        return RoombaAct(v, om)\n",
    "    end\n",
    "    p = MyHeuristic()\n",
    "    solver = POMCPSolver(estimate_value=FORollout(p))\n",
    "    POMCP_planner = BasicPOMCP.solve(solver, m);\n",
    "else\n",
    "    solver = POMCPSolver();\n",
    "    POMCP_planner = BasicPOMCP.solve(solver, m);\n",
    "end;"
   ]
  },
  {
   "cell_type": "code",
   "execution_count": null,
   "metadata": {},
   "outputs": [],
   "source": [
    "# is = RoombaState(-20., -10., 0., 0.)\n",
    "# dist = initialstate_distribution(m)\n",
    "# b0 = initialize_belief(belief_updater, dist)\n",
    "# Random.seed!(70)\n",
    "# run the simulation\n",
    "c = @GtkCanvas()\n",
    "win = GtkWindow(c, \"Roomba Environment\", 600, 600)\n",
    "# sleep(10)\n",
    "# for (t, step) in enumerate(stepthrough(m, POMCP_planner, belief_updater, b0, is, max_steps=300))\n",
    "for (t, step) in enumerate(stepthrough(m, POMCP_planner, belief_updater, max_steps=1000))\n",
    "    @guarded draw(c) do widget\n",
    "        \n",
    "        # the following lines render the room, the particles, and the roomba\n",
    "        ctx = getgc(c)\n",
    "        set_source_rgb(ctx,1,1,1)\n",
    "        paint(ctx)\n",
    "        render(ctx, m, step)\n",
    "        \n",
    "        # render some information that can help with debugging\n",
    "        # here, we render the time-step, the state, and the observation\n",
    "        move_to(ctx,300,400)\n",
    "        show_text(ctx, @sprintf(\"t=%d, state=%s, o=%.3f\",t,string(step.s),step.o))\n",
    "    end\n",
    "    show(c)\n",
    "    sleep(0.1) # to slow down the simulation\n",
    "    if step.o\n",
    "        m.mdp.contact_pen = -0.0\n",
    "    end\n",
    "end"
   ]
  },
  {
   "cell_type": "code",
   "execution_count": null,
   "metadata": {},
   "outputs": [],
   "source": []
  }
 ],
 "metadata": {
  "kernelspec": {
   "display_name": "Julia 1.0.2",
   "language": "julia",
   "name": "julia-1.0"
  },
  "language_info": {
   "file_extension": ".jl",
   "mimetype": "application/julia",
   "name": "julia",
   "version": "1.0.2"
  }
 },
 "nbformat": 4,
 "nbformat_minor": 2
}
